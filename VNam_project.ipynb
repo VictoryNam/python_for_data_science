{
 "cells": [
  {
   "cell_type": "markdown",
   "id": "a535dbaa",
   "metadata": {},
   "source": [
    "**Подключение библиотек и скриптов**"
   ]
  },
  {
   "cell_type": "code",
   "execution_count": 56,
   "id": "64d5537a",
   "metadata": {},
   "outputs": [],
   "source": [
    "import numpy as np\n",
    "import pandas as pd\n",
    "import random\n",
    "\n",
    "from sklearn.model_selection import train_test_split, cross_val_score\n",
    "from sklearn.preprocessing import StandardScaler, MinMaxScaler\n",
    "from sklearn.ensemble import RandomForestRegressor\n",
    "from sklearn.metrics import r2_score as r2\n",
    "from sklearn.model_selection import KFold, GridSearchCV\n",
    "\n",
    "import matplotlib\n",
    "import matplotlib.pyplot as plt\n",
    "import seaborn as sns\n",
    "%matplotlib inline"
   ]
  },
  {
   "cell_type": "code",
   "execution_count": 57,
   "id": "44378a74",
   "metadata": {},
   "outputs": [],
   "source": [
    "from sklearn.model_selection import train_test_split, cross_val_score, RandomizedSearchCV"
   ]
  },
  {
   "cell_type": "code",
   "execution_count": 58,
   "id": "ba8ad33e",
   "metadata": {},
   "outputs": [],
   "source": [
    "import warnings\n",
    "warnings.filterwarnings('ignore')"
   ]
  },
  {
   "cell_type": "code",
   "execution_count": 59,
   "id": "0de03462",
   "metadata": {},
   "outputs": [],
   "source": [
    "matplotlib.rcParams.update({'font.size': 14})"
   ]
  },
  {
   "cell_type": "code",
   "execution_count": 60,
   "id": "4a79c539",
   "metadata": {},
   "outputs": [],
   "source": [
    "def evaluate_preds(train_true_values, train_pred_values, test_true_values, test_pred_values):\n",
    "    \"\"\"\n",
    "    # дописать документация\n",
    "    \"\"\"\n",
    "    print(\"Train R2:\\t\" + str(round(r2(train_true_values, train_pred_values), 3)))\n",
    "    print(\"Valid R2:\\t\" + str(round(r2(test_true_values, test_pred_values), 3)))\n",
    "\n",
    "    plt.figure(figsize=(18,10))\n",
    "    plt.subplot(121)\n",
    "    sns.scatterplot(x=train_pred_values, y=train_true_values)\n",
    "    plt.xlabel('Predicted values')\n",
    "    plt.ylabel('True values')\n",
    "    plt.title('Train sample prediction')\n",
    "    \n",
    "    plt.subplot(122)\n",
    "    sns.scatterplot(x=test_pred_values, y=test_true_values)\n",
    "    plt.xlabel('Predicted values')\n",
    "    plt.ylabel('True values')\n",
    "    plt.title('Test sample prediction')\n",
    "\n",
    "    plt.show()"
   ]
  },
  {
   "cell_type": "markdown",
   "id": "ec145e4c",
   "metadata": {},
   "source": [
    "**Пути к директориям и файлам**"
   ]
  },
  {
   "cell_type": "code",
   "execution_count": 61,
   "id": "13d177a2",
   "metadata": {},
   "outputs": [],
   "source": [
    "TRAIN_DATASET_PATH = 'C:/Users/Виктория/data/train.csv' # y_train, y_valid\n",
    "TEST_DATASET_PATH = 'C:/Users/Виктория/data/test.csv'"
   ]
  },
  {
   "cell_type": "markdown",
   "id": "60f9377d",
   "metadata": {},
   "source": [
    "### Загрузка данных"
   ]
  },
  {
   "cell_type": "markdown",
   "id": "12750378",
   "metadata": {},
   "source": [
    "**Описание датасета**\n",
    "\n",
    "* **Id** - идентификационный номер квартиры\n",
    "* **DistrictId** - идентификационный номер района\n",
    "* **Rooms** - количество комнат\n",
    "* **Square** - площадь\n",
    "* **LifeSquare** - жилая площадь\n",
    "* **KitchenSquare** - площадь кухни\n",
    "* **Floor** - этаж\n",
    "* **HouseFloor** - количество этажей в доме\n",
    "* **HouseYear** - год постройки дома\n",
    "* **Ecology_1, Ecology_2, Ecology_3** - экологические показатели местности\n",
    "* **Social_1, Social_2, Social_3** - социальные показатели местности\n",
    "* **Healthcare_1, Helthcare_2** - показатели местности, связанные с охраной здоровья\n",
    "* **Shops_1, Shops_2** - показатели, связанные с наличием магазинов, торговых центров\n",
    "* **Price** - цена квартиры"
   ]
  },
  {
   "cell_type": "code",
   "execution_count": 62,
   "id": "6cddfd50",
   "metadata": {
    "scrolled": true
   },
   "outputs": [
    {
     "data": {
      "text/html": [
       "<div>\n",
       "<style scoped>\n",
       "    .dataframe tbody tr th:only-of-type {\n",
       "        vertical-align: middle;\n",
       "    }\n",
       "\n",
       "    .dataframe tbody tr th {\n",
       "        vertical-align: top;\n",
       "    }\n",
       "\n",
       "    .dataframe thead th {\n",
       "        text-align: right;\n",
       "    }\n",
       "</style>\n",
       "<table border=\"1\" class=\"dataframe\">\n",
       "  <thead>\n",
       "    <tr style=\"text-align: right;\">\n",
       "      <th></th>\n",
       "      <th>Id</th>\n",
       "      <th>DistrictId</th>\n",
       "      <th>Rooms</th>\n",
       "      <th>Square</th>\n",
       "      <th>LifeSquare</th>\n",
       "      <th>KitchenSquare</th>\n",
       "      <th>Floor</th>\n",
       "      <th>HouseFloor</th>\n",
       "      <th>HouseYear</th>\n",
       "      <th>Ecology_1</th>\n",
       "      <th>Ecology_2</th>\n",
       "      <th>Ecology_3</th>\n",
       "      <th>Social_1</th>\n",
       "      <th>Social_2</th>\n",
       "      <th>Social_3</th>\n",
       "      <th>Healthcare_1</th>\n",
       "      <th>Helthcare_2</th>\n",
       "      <th>Shops_1</th>\n",
       "      <th>Shops_2</th>\n",
       "      <th>Price</th>\n",
       "    </tr>\n",
       "  </thead>\n",
       "  <tbody>\n",
       "    <tr>\n",
       "      <th>9995</th>\n",
       "      <td>1260</td>\n",
       "      <td>61</td>\n",
       "      <td>2.0</td>\n",
       "      <td>49.090728</td>\n",
       "      <td>33.272626</td>\n",
       "      <td>6.0</td>\n",
       "      <td>3</td>\n",
       "      <td>12.0</td>\n",
       "      <td>1981</td>\n",
       "      <td>0.300323</td>\n",
       "      <td>B</td>\n",
       "      <td>B</td>\n",
       "      <td>52</td>\n",
       "      <td>10311</td>\n",
       "      <td>6</td>\n",
       "      <td>NaN</td>\n",
       "      <td>1</td>\n",
       "      <td>9</td>\n",
       "      <td>B</td>\n",
       "      <td>119367.455796</td>\n",
       "    </tr>\n",
       "    <tr>\n",
       "      <th>9996</th>\n",
       "      <td>16265</td>\n",
       "      <td>27</td>\n",
       "      <td>2.0</td>\n",
       "      <td>64.307684</td>\n",
       "      <td>37.038420</td>\n",
       "      <td>9.0</td>\n",
       "      <td>13</td>\n",
       "      <td>0.0</td>\n",
       "      <td>1977</td>\n",
       "      <td>0.072158</td>\n",
       "      <td>B</td>\n",
       "      <td>B</td>\n",
       "      <td>2</td>\n",
       "      <td>629</td>\n",
       "      <td>1</td>\n",
       "      <td>NaN</td>\n",
       "      <td>0</td>\n",
       "      <td>0</td>\n",
       "      <td>A</td>\n",
       "      <td>199715.148807</td>\n",
       "    </tr>\n",
       "    <tr>\n",
       "      <th>9997</th>\n",
       "      <td>2795</td>\n",
       "      <td>178</td>\n",
       "      <td>1.0</td>\n",
       "      <td>29.648057</td>\n",
       "      <td>16.555363</td>\n",
       "      <td>5.0</td>\n",
       "      <td>3</td>\n",
       "      <td>5.0</td>\n",
       "      <td>1958</td>\n",
       "      <td>0.460556</td>\n",
       "      <td>B</td>\n",
       "      <td>B</td>\n",
       "      <td>20</td>\n",
       "      <td>4386</td>\n",
       "      <td>14</td>\n",
       "      <td>NaN</td>\n",
       "      <td>1</td>\n",
       "      <td>5</td>\n",
       "      <td>B</td>\n",
       "      <td>165953.912580</td>\n",
       "    </tr>\n",
       "    <tr>\n",
       "      <th>9998</th>\n",
       "      <td>14561</td>\n",
       "      <td>21</td>\n",
       "      <td>1.0</td>\n",
       "      <td>32.330292</td>\n",
       "      <td>22.326870</td>\n",
       "      <td>5.0</td>\n",
       "      <td>3</td>\n",
       "      <td>9.0</td>\n",
       "      <td>1969</td>\n",
       "      <td>0.194489</td>\n",
       "      <td>B</td>\n",
       "      <td>B</td>\n",
       "      <td>47</td>\n",
       "      <td>8004</td>\n",
       "      <td>3</td>\n",
       "      <td>125.0</td>\n",
       "      <td>3</td>\n",
       "      <td>5</td>\n",
       "      <td>B</td>\n",
       "      <td>171842.411855</td>\n",
       "    </tr>\n",
       "    <tr>\n",
       "      <th>9999</th>\n",
       "      <td>7202</td>\n",
       "      <td>94</td>\n",
       "      <td>1.0</td>\n",
       "      <td>35.815476</td>\n",
       "      <td>22.301367</td>\n",
       "      <td>6.0</td>\n",
       "      <td>9</td>\n",
       "      <td>9.0</td>\n",
       "      <td>1975</td>\n",
       "      <td>0.127376</td>\n",
       "      <td>B</td>\n",
       "      <td>B</td>\n",
       "      <td>43</td>\n",
       "      <td>8429</td>\n",
       "      <td>3</td>\n",
       "      <td>NaN</td>\n",
       "      <td>3</td>\n",
       "      <td>9</td>\n",
       "      <td>B</td>\n",
       "      <td>177685.627486</td>\n",
       "    </tr>\n",
       "  </tbody>\n",
       "</table>\n",
       "</div>"
      ],
      "text/plain": [
       "         Id  DistrictId  Rooms     Square  LifeSquare  KitchenSquare  Floor  \\\n",
       "9995   1260          61    2.0  49.090728   33.272626            6.0      3   \n",
       "9996  16265          27    2.0  64.307684   37.038420            9.0     13   \n",
       "9997   2795         178    1.0  29.648057   16.555363            5.0      3   \n",
       "9998  14561          21    1.0  32.330292   22.326870            5.0      3   \n",
       "9999   7202          94    1.0  35.815476   22.301367            6.0      9   \n",
       "\n",
       "      HouseFloor  HouseYear  Ecology_1 Ecology_2 Ecology_3  Social_1  \\\n",
       "9995        12.0       1981   0.300323         B         B        52   \n",
       "9996         0.0       1977   0.072158         B         B         2   \n",
       "9997         5.0       1958   0.460556         B         B        20   \n",
       "9998         9.0       1969   0.194489         B         B        47   \n",
       "9999         9.0       1975   0.127376         B         B        43   \n",
       "\n",
       "      Social_2  Social_3  Healthcare_1  Helthcare_2  Shops_1 Shops_2  \\\n",
       "9995     10311         6           NaN            1        9       B   \n",
       "9996       629         1           NaN            0        0       A   \n",
       "9997      4386        14           NaN            1        5       B   \n",
       "9998      8004         3         125.0            3        5       B   \n",
       "9999      8429         3           NaN            3        9       B   \n",
       "\n",
       "              Price  \n",
       "9995  119367.455796  \n",
       "9996  199715.148807  \n",
       "9997  165953.912580  \n",
       "9998  171842.411855  \n",
       "9999  177685.627486  "
      ]
     },
     "execution_count": 62,
     "metadata": {},
     "output_type": "execute_result"
    }
   ],
   "source": [
    "train_df = pd.read_csv(TRAIN_DATASET_PATH)\n",
    "train_df.tail()"
   ]
  },
  {
   "cell_type": "code",
   "execution_count": 63,
   "id": "ae36e4ea",
   "metadata": {},
   "outputs": [
    {
     "data": {
      "text/html": [
       "<div>\n",
       "<style scoped>\n",
       "    .dataframe tbody tr th:only-of-type {\n",
       "        vertical-align: middle;\n",
       "    }\n",
       "\n",
       "    .dataframe tbody tr th {\n",
       "        vertical-align: top;\n",
       "    }\n",
       "\n",
       "    .dataframe thead th {\n",
       "        text-align: right;\n",
       "    }\n",
       "</style>\n",
       "<table border=\"1\" class=\"dataframe\">\n",
       "  <thead>\n",
       "    <tr style=\"text-align: right;\">\n",
       "      <th></th>\n",
       "      <th>Id</th>\n",
       "      <th>DistrictId</th>\n",
       "      <th>Rooms</th>\n",
       "      <th>Square</th>\n",
       "      <th>LifeSquare</th>\n",
       "      <th>KitchenSquare</th>\n",
       "      <th>Floor</th>\n",
       "      <th>HouseFloor</th>\n",
       "      <th>HouseYear</th>\n",
       "      <th>Ecology_1</th>\n",
       "      <th>Ecology_2</th>\n",
       "      <th>Ecology_3</th>\n",
       "      <th>Social_1</th>\n",
       "      <th>Social_2</th>\n",
       "      <th>Social_3</th>\n",
       "      <th>Healthcare_1</th>\n",
       "      <th>Helthcare_2</th>\n",
       "      <th>Shops_1</th>\n",
       "      <th>Shops_2</th>\n",
       "    </tr>\n",
       "  </thead>\n",
       "  <tbody>\n",
       "    <tr>\n",
       "      <th>4995</th>\n",
       "      <td>10379</td>\n",
       "      <td>29</td>\n",
       "      <td>2.0</td>\n",
       "      <td>43.177521</td>\n",
       "      <td>30.339945</td>\n",
       "      <td>5.0</td>\n",
       "      <td>6</td>\n",
       "      <td>5.0</td>\n",
       "      <td>1962</td>\n",
       "      <td>0.069660</td>\n",
       "      <td>B</td>\n",
       "      <td>B</td>\n",
       "      <td>31</td>\n",
       "      <td>6119</td>\n",
       "      <td>4</td>\n",
       "      <td>NaN</td>\n",
       "      <td>1</td>\n",
       "      <td>2</td>\n",
       "      <td>B</td>\n",
       "    </tr>\n",
       "    <tr>\n",
       "      <th>4996</th>\n",
       "      <td>16138</td>\n",
       "      <td>38</td>\n",
       "      <td>3.0</td>\n",
       "      <td>93.698122</td>\n",
       "      <td>94.521465</td>\n",
       "      <td>10.0</td>\n",
       "      <td>21</td>\n",
       "      <td>27.0</td>\n",
       "      <td>2018</td>\n",
       "      <td>0.060753</td>\n",
       "      <td>B</td>\n",
       "      <td>B</td>\n",
       "      <td>15</td>\n",
       "      <td>2787</td>\n",
       "      <td>2</td>\n",
       "      <td>520.0</td>\n",
       "      <td>0</td>\n",
       "      <td>7</td>\n",
       "      <td>B</td>\n",
       "    </tr>\n",
       "    <tr>\n",
       "      <th>4997</th>\n",
       "      <td>3912</td>\n",
       "      <td>101</td>\n",
       "      <td>1.0</td>\n",
       "      <td>33.656723</td>\n",
       "      <td>19.003259</td>\n",
       "      <td>5.0</td>\n",
       "      <td>2</td>\n",
       "      <td>5.0</td>\n",
       "      <td>1966</td>\n",
       "      <td>0.038693</td>\n",
       "      <td>B</td>\n",
       "      <td>B</td>\n",
       "      <td>28</td>\n",
       "      <td>6533</td>\n",
       "      <td>1</td>\n",
       "      <td>1015.0</td>\n",
       "      <td>2</td>\n",
       "      <td>5</td>\n",
       "      <td>B</td>\n",
       "    </tr>\n",
       "    <tr>\n",
       "      <th>4998</th>\n",
       "      <td>5722</td>\n",
       "      <td>10</td>\n",
       "      <td>1.0</td>\n",
       "      <td>38.635155</td>\n",
       "      <td>20.976257</td>\n",
       "      <td>9.0</td>\n",
       "      <td>8</td>\n",
       "      <td>14.0</td>\n",
       "      <td>1970</td>\n",
       "      <td>0.089040</td>\n",
       "      <td>B</td>\n",
       "      <td>B</td>\n",
       "      <td>33</td>\n",
       "      <td>7976</td>\n",
       "      <td>5</td>\n",
       "      <td>NaN</td>\n",
       "      <td>0</td>\n",
       "      <td>11</td>\n",
       "      <td>B</td>\n",
       "    </tr>\n",
       "    <tr>\n",
       "      <th>4999</th>\n",
       "      <td>11004</td>\n",
       "      <td>21</td>\n",
       "      <td>2.0</td>\n",
       "      <td>67.122742</td>\n",
       "      <td>33.944344</td>\n",
       "      <td>13.0</td>\n",
       "      <td>9</td>\n",
       "      <td>17.0</td>\n",
       "      <td>2009</td>\n",
       "      <td>0.194489</td>\n",
       "      <td>B</td>\n",
       "      <td>B</td>\n",
       "      <td>47</td>\n",
       "      <td>8004</td>\n",
       "      <td>3</td>\n",
       "      <td>125.0</td>\n",
       "      <td>3</td>\n",
       "      <td>5</td>\n",
       "      <td>B</td>\n",
       "    </tr>\n",
       "  </tbody>\n",
       "</table>\n",
       "</div>"
      ],
      "text/plain": [
       "         Id  DistrictId  Rooms     Square  LifeSquare  KitchenSquare  Floor  \\\n",
       "4995  10379          29    2.0  43.177521   30.339945            5.0      6   \n",
       "4996  16138          38    3.0  93.698122   94.521465           10.0     21   \n",
       "4997   3912         101    1.0  33.656723   19.003259            5.0      2   \n",
       "4998   5722          10    1.0  38.635155   20.976257            9.0      8   \n",
       "4999  11004          21    2.0  67.122742   33.944344           13.0      9   \n",
       "\n",
       "      HouseFloor  HouseYear  Ecology_1 Ecology_2 Ecology_3  Social_1  \\\n",
       "4995         5.0       1962   0.069660         B         B        31   \n",
       "4996        27.0       2018   0.060753         B         B        15   \n",
       "4997         5.0       1966   0.038693         B         B        28   \n",
       "4998        14.0       1970   0.089040         B         B        33   \n",
       "4999        17.0       2009   0.194489         B         B        47   \n",
       "\n",
       "      Social_2  Social_3  Healthcare_1  Helthcare_2  Shops_1 Shops_2  \n",
       "4995      6119         4           NaN            1        2       B  \n",
       "4996      2787         2         520.0            0        7       B  \n",
       "4997      6533         1        1015.0            2        5       B  \n",
       "4998      7976         5           NaN            0       11       B  \n",
       "4999      8004         3         125.0            3        5       B  "
      ]
     },
     "execution_count": 63,
     "metadata": {},
     "output_type": "execute_result"
    }
   ],
   "source": [
    "test_df = pd.read_csv(TEST_DATASET_PATH)\n",
    "test_df.tail()"
   ]
  },
  {
   "cell_type": "code",
   "execution_count": 64,
   "id": "8aa5b972",
   "metadata": {},
   "outputs": [
    {
     "data": {
      "text/plain": [
       "True"
      ]
     },
     "execution_count": 64,
     "metadata": {},
     "output_type": "execute_result"
    }
   ],
   "source": [
    "train_df.shape[1]-1 == test_df.shape[1]"
   ]
  },
  {
   "cell_type": "markdown",
   "id": "7f08d987",
   "metadata": {},
   "source": [
    "### Приведение типов"
   ]
  },
  {
   "cell_type": "code",
   "execution_count": 65,
   "id": "db7bd974",
   "metadata": {},
   "outputs": [
    {
     "data": {
      "text/plain": [
       "Id                 int64\n",
       "DistrictId         int64\n",
       "Rooms            float64\n",
       "Square           float64\n",
       "LifeSquare       float64\n",
       "KitchenSquare    float64\n",
       "Floor              int64\n",
       "HouseFloor       float64\n",
       "HouseYear          int64\n",
       "Ecology_1        float64\n",
       "Ecology_2         object\n",
       "Ecology_3         object\n",
       "Social_1           int64\n",
       "Social_2           int64\n",
       "Social_3           int64\n",
       "Healthcare_1     float64\n",
       "Helthcare_2        int64\n",
       "Shops_1            int64\n",
       "Shops_2           object\n",
       "Price            float64\n",
       "dtype: object"
      ]
     },
     "execution_count": 65,
     "metadata": {},
     "output_type": "execute_result"
    }
   ],
   "source": [
    "train_df.dtypes"
   ]
  },
  {
   "cell_type": "code",
   "execution_count": 66,
   "id": "3d2b2278",
   "metadata": {},
   "outputs": [
    {
     "data": {
      "text/plain": [
       "int64      9\n",
       "float64    8\n",
       "object     3\n",
       "dtype: int64"
      ]
     },
     "execution_count": 66,
     "metadata": {},
     "output_type": "execute_result"
    }
   ],
   "source": [
    "train_df.dtypes.value_counts()"
   ]
  },
  {
   "cell_type": "code",
   "execution_count": 67,
   "id": "83445124",
   "metadata": {},
   "outputs": [],
   "source": [
    "train_df['Id'] = train_df['Id'].astype(str)\n",
    "train_df['DistrictId'] = train_df['DistrictId'].astype(str)\n",
    "test_df['Id'] = test_df['Id'].astype(str)\n",
    "test_df['DistrictId'] = test_df['DistrictId'].astype(str)"
   ]
  },
  {
   "cell_type": "markdown",
   "id": "c0a58248",
   "metadata": {},
   "source": [
    "### Обзор данных"
   ]
  },
  {
   "cell_type": "markdown",
   "id": "9bfa6b10",
   "metadata": {},
   "source": [
    "**Целевая переменная**"
   ]
  },
  {
   "cell_type": "code",
   "execution_count": 68,
   "id": "54700c08",
   "metadata": {},
   "outputs": [
    {
     "data": {
      "image/png": "[encoded data removed]",
      "text/plain": [
       "<Figure size 1152x576 with 1 Axes>"
      ]
     },
     "metadata": {
      "needs_background": "light"
     },
     "output_type": "display_data"
    }
   ],
   "source": [
    "plt.figure(figsize = (16, 8))\n",
    "\n",
    "train_df['Price'].hist(bins=30)\n",
    "plt.ylabel('Count')\n",
    "plt.xlabel('Price')\n",
    "\n",
    "plt.title('Target distribution')\n",
    "plt.show()"
   ]
  },
  {
   "cell_type": "markdown",
   "id": "e950c3da",
   "metadata": {},
   "source": [
    "Распледеление блзко к логнормальному. Построим еще одну диаграмму с модой, медианой и средним значением целевой переменной.  \n"
   ]
  },
  {
   "cell_type": "code",
   "execution_count": 69,
   "id": "8945bbd5",
   "metadata": {},
   "outputs": [
    {
     "data": {
      "text/plain": [
       "<matplotlib.legend.Legend at 0x2329c3b98e0>"
      ]
     },
     "execution_count": 69,
     "metadata": {},
     "output_type": "execute_result"
    },
    {
     "data": {
      "image/png": "[encoded data removed]",
      "text/plain": [
       "<Figure size 1152x576 with 1 Axes>"
      ]
     },
     "metadata": {
      "needs_background": "light"
     },
     "output_type": "display_data"
    }
   ],
   "source": [
    "target_mean = round(train_df['Price'].mean(), 2)\n",
    "target_median = train_df['Price'].median()\n",
    "target_mode = train_df['Price'].mode()[0]\n",
    "\n",
    "plt.figure(figsize = (16, 8))\n",
    "\n",
    "sns.distplot(train_df['Price'], bins=30)\n",
    "\n",
    "y = np.linspace(0, 0.000005, 10)\n",
    "plt.plot([target_mean] * 10, y, label='mean',  linewidth=4)\n",
    "plt.plot([target_median] * 10, y, label='median',  linewidth=4)\n",
    "plt.plot([target_mode] * 10, y, label='mode', linewidth=4)\n",
    "\n",
    "plt.title('Distribution of price')\n",
    "plt.legend()"
   ]
  },
  {
   "cell_type": "markdown",
   "id": "809177fe",
   "metadata": {},
   "source": [
    "Мода смещена влево, меньше среднего и медианы. \n",
    "Как это может повлиять на модель и что с этим делать понять не удалось."
   ]
  },
  {
   "cell_type": "markdown",
   "id": "e7e0240d",
   "metadata": {},
   "source": [
    "Построим диаграммы для числовых признаков."
   ]
  },
  {
   "cell_type": "code",
   "execution_count": 70,
   "id": "f3e4b4f1",
   "metadata": {},
   "outputs": [
    {
     "data": {
      "image/png": "[encoded data removed]",
      "text/plain": [
       "<Figure size 1152x1152 with 16 Axes>"
      ]
     },
     "metadata": {
      "needs_background": "light"
     },
     "output_type": "display_data"
    }
   ],
   "source": [
    "df_num_features = train_df.select_dtypes(include=['float64', 'int64'])\n",
    "df_num_features.hist(figsize=(16,16), bins=20, grid=False);"
   ]
  },
  {
   "cell_type": "markdown",
   "id": "fe42bdb5",
   "metadata": {},
   "source": [
    "Видно, что в признаках Rooms, Square, LifeSquare, KitchenSquare, HouseFloor, HouseYear, Healthcare_1 имеются выбросы. Следует от них избавится. \n",
    "Social_1 и Social_2 отличаются незначительно, можно эти признаки объединить. "
   ]
  },
  {
   "cell_type": "markdown",
   "id": "8b0792e0",
   "metadata": {},
   "source": [
    "**Количественные переменные**"
   ]
  },
  {
   "cell_type": "code",
   "execution_count": 71,
   "id": "2a477934",
   "metadata": {},
   "outputs": [
    {
     "data": {
      "text/html": [
       "<div>\n",
       "<style scoped>\n",
       "    .dataframe tbody tr th:only-of-type {\n",
       "        vertical-align: middle;\n",
       "    }\n",
       "\n",
       "    .dataframe tbody tr th {\n",
       "        vertical-align: top;\n",
       "    }\n",
       "\n",
       "    .dataframe thead th {\n",
       "        text-align: right;\n",
       "    }\n",
       "</style>\n",
       "<table border=\"1\" class=\"dataframe\">\n",
       "  <thead>\n",
       "    <tr style=\"text-align: right;\">\n",
       "      <th></th>\n",
       "      <th>Rooms</th>\n",
       "      <th>Square</th>\n",
       "      <th>LifeSquare</th>\n",
       "      <th>KitchenSquare</th>\n",
       "      <th>Floor</th>\n",
       "      <th>HouseFloor</th>\n",
       "      <th>HouseYear</th>\n",
       "      <th>Ecology_1</th>\n",
       "      <th>Social_1</th>\n",
       "      <th>Social_2</th>\n",
       "      <th>Social_3</th>\n",
       "      <th>Healthcare_1</th>\n",
       "      <th>Helthcare_2</th>\n",
       "      <th>Shops_1</th>\n",
       "      <th>Price</th>\n",
       "    </tr>\n",
       "  </thead>\n",
       "  <tbody>\n",
       "    <tr>\n",
       "      <th>count</th>\n",
       "      <td>10000.000000</td>\n",
       "      <td>10000.000000</td>\n",
       "      <td>7887.000000</td>\n",
       "      <td>10000.000000</td>\n",
       "      <td>10000.000000</td>\n",
       "      <td>10000.000000</td>\n",
       "      <td>1.000000e+04</td>\n",
       "      <td>10000.000000</td>\n",
       "      <td>10000.000000</td>\n",
       "      <td>10000.000000</td>\n",
       "      <td>10000.000000</td>\n",
       "      <td>5202.000000</td>\n",
       "      <td>10000.000000</td>\n",
       "      <td>10000.000000</td>\n",
       "      <td>10000.000000</td>\n",
       "    </tr>\n",
       "    <tr>\n",
       "      <th>mean</th>\n",
       "      <td>1.890500</td>\n",
       "      <td>56.315775</td>\n",
       "      <td>37.199645</td>\n",
       "      <td>6.273300</td>\n",
       "      <td>8.526700</td>\n",
       "      <td>12.609400</td>\n",
       "      <td>3.990166e+03</td>\n",
       "      <td>0.118858</td>\n",
       "      <td>24.687000</td>\n",
       "      <td>5352.157400</td>\n",
       "      <td>8.039200</td>\n",
       "      <td>1142.904460</td>\n",
       "      <td>1.319500</td>\n",
       "      <td>4.231300</td>\n",
       "      <td>214138.857399</td>\n",
       "    </tr>\n",
       "    <tr>\n",
       "      <th>std</th>\n",
       "      <td>0.839512</td>\n",
       "      <td>21.058732</td>\n",
       "      <td>86.241209</td>\n",
       "      <td>28.560917</td>\n",
       "      <td>5.241148</td>\n",
       "      <td>6.775974</td>\n",
       "      <td>2.005003e+05</td>\n",
       "      <td>0.119025</td>\n",
       "      <td>17.532614</td>\n",
       "      <td>4006.799803</td>\n",
       "      <td>23.831875</td>\n",
       "      <td>1021.517264</td>\n",
       "      <td>1.493601</td>\n",
       "      <td>4.806341</td>\n",
       "      <td>92872.293865</td>\n",
       "    </tr>\n",
       "    <tr>\n",
       "      <th>min</th>\n",
       "      <td>0.000000</td>\n",
       "      <td>1.136859</td>\n",
       "      <td>0.370619</td>\n",
       "      <td>0.000000</td>\n",
       "      <td>1.000000</td>\n",
       "      <td>0.000000</td>\n",
       "      <td>1.910000e+03</td>\n",
       "      <td>0.000000</td>\n",
       "      <td>0.000000</td>\n",
       "      <td>168.000000</td>\n",
       "      <td>0.000000</td>\n",
       "      <td>0.000000</td>\n",
       "      <td>0.000000</td>\n",
       "      <td>0.000000</td>\n",
       "      <td>59174.778028</td>\n",
       "    </tr>\n",
       "    <tr>\n",
       "      <th>25%</th>\n",
       "      <td>1.000000</td>\n",
       "      <td>41.774881</td>\n",
       "      <td>22.769832</td>\n",
       "      <td>1.000000</td>\n",
       "      <td>4.000000</td>\n",
       "      <td>9.000000</td>\n",
       "      <td>1.974000e+03</td>\n",
       "      <td>0.017647</td>\n",
       "      <td>6.000000</td>\n",
       "      <td>1564.000000</td>\n",
       "      <td>0.000000</td>\n",
       "      <td>350.000000</td>\n",
       "      <td>0.000000</td>\n",
       "      <td>1.000000</td>\n",
       "      <td>153872.633942</td>\n",
       "    </tr>\n",
       "    <tr>\n",
       "      <th>50%</th>\n",
       "      <td>2.000000</td>\n",
       "      <td>52.513310</td>\n",
       "      <td>32.781260</td>\n",
       "      <td>6.000000</td>\n",
       "      <td>7.000000</td>\n",
       "      <td>13.000000</td>\n",
       "      <td>1.977000e+03</td>\n",
       "      <td>0.075424</td>\n",
       "      <td>25.000000</td>\n",
       "      <td>5285.000000</td>\n",
       "      <td>2.000000</td>\n",
       "      <td>900.000000</td>\n",
       "      <td>1.000000</td>\n",
       "      <td>3.000000</td>\n",
       "      <td>192269.644879</td>\n",
       "    </tr>\n",
       "    <tr>\n",
       "      <th>75%</th>\n",
       "      <td>2.000000</td>\n",
       "      <td>65.900625</td>\n",
       "      <td>45.128803</td>\n",
       "      <td>9.000000</td>\n",
       "      <td>12.000000</td>\n",
       "      <td>17.000000</td>\n",
       "      <td>2.001000e+03</td>\n",
       "      <td>0.195781</td>\n",
       "      <td>36.000000</td>\n",
       "      <td>7227.000000</td>\n",
       "      <td>5.000000</td>\n",
       "      <td>1548.000000</td>\n",
       "      <td>2.000000</td>\n",
       "      <td>6.000000</td>\n",
       "      <td>249135.462171</td>\n",
       "    </tr>\n",
       "    <tr>\n",
       "      <th>max</th>\n",
       "      <td>19.000000</td>\n",
       "      <td>641.065193</td>\n",
       "      <td>7480.592129</td>\n",
       "      <td>2014.000000</td>\n",
       "      <td>42.000000</td>\n",
       "      <td>117.000000</td>\n",
       "      <td>2.005201e+07</td>\n",
       "      <td>0.521867</td>\n",
       "      <td>74.000000</td>\n",
       "      <td>19083.000000</td>\n",
       "      <td>141.000000</td>\n",
       "      <td>4849.000000</td>\n",
       "      <td>6.000000</td>\n",
       "      <td>23.000000</td>\n",
       "      <td>633233.466570</td>\n",
       "    </tr>\n",
       "  </tbody>\n",
       "</table>\n",
       "</div>"
      ],
      "text/plain": [
       "              Rooms        Square   LifeSquare  KitchenSquare         Floor  \\\n",
       "count  10000.000000  10000.000000  7887.000000   10000.000000  10000.000000   \n",
       "mean       1.890500     56.315775    37.199645       6.273300      8.526700   \n",
       "std        0.839512     21.058732    86.241209      28.560917      5.241148   \n",
       "min        0.000000      1.136859     0.370619       0.000000      1.000000   \n",
       "25%        1.000000     41.774881    22.769832       1.000000      4.000000   \n",
       "50%        2.000000     52.513310    32.781260       6.000000      7.000000   \n",
       "75%        2.000000     65.900625    45.128803       9.000000     12.000000   \n",
       "max       19.000000    641.065193  7480.592129    2014.000000     42.000000   \n",
       "\n",
       "         HouseFloor     HouseYear     Ecology_1      Social_1      Social_2  \\\n",
       "count  10000.000000  1.000000e+04  10000.000000  10000.000000  10000.000000   \n",
       "mean      12.609400  3.990166e+03      0.118858     24.687000   5352.157400   \n",
       "std        6.775974  2.005003e+05      0.119025     17.532614   4006.799803   \n",
       "min        0.000000  1.910000e+03      0.000000      0.000000    168.000000   \n",
       "25%        9.000000  1.974000e+03      0.017647      6.000000   1564.000000   \n",
       "50%       13.000000  1.977000e+03      0.075424     25.000000   5285.000000   \n",
       "75%       17.000000  2.001000e+03      0.195781     36.000000   7227.000000   \n",
       "max      117.000000  2.005201e+07      0.521867     74.000000  19083.000000   \n",
       "\n",
       "           Social_3  Healthcare_1   Helthcare_2       Shops_1          Price  \n",
       "count  10000.000000   5202.000000  10000.000000  10000.000000   10000.000000  \n",
       "mean       8.039200   1142.904460      1.319500      4.231300  214138.857399  \n",
       "std       23.831875   1021.517264      1.493601      4.806341   92872.293865  \n",
       "min        0.000000      0.000000      0.000000      0.000000   59174.778028  \n",
       "25%        0.000000    350.000000      0.000000      1.000000  153872.633942  \n",
       "50%        2.000000    900.000000      1.000000      3.000000  192269.644879  \n",
       "75%        5.000000   1548.000000      2.000000      6.000000  249135.462171  \n",
       "max      141.000000   4849.000000      6.000000     23.000000  633233.466570  "
      ]
     },
     "execution_count": 71,
     "metadata": {},
     "output_type": "execute_result"
    }
   ],
   "source": [
    "train_df.describe()"
   ]
  },
  {
   "cell_type": "markdown",
   "id": "d64e5d63",
   "metadata": {},
   "source": [
    "Из таблицы видно, что в данных есть пропуски, нулевые значения. "
   ]
  },
  {
   "cell_type": "markdown",
   "id": "a13a14c9",
   "metadata": {},
   "source": [
    "**Категориальные переменные**"
   ]
  },
  {
   "cell_type": "code",
   "execution_count": 72,
   "id": "fdceb329",
   "metadata": {},
   "outputs": [
    {
     "data": {
      "text/plain": [
       "['Id', 'DistrictId', 'Ecology_2', 'Ecology_3', 'Shops_2']"
      ]
     },
     "execution_count": 72,
     "metadata": {},
     "output_type": "execute_result"
    }
   ],
   "source": [
    "cat_colnames = train_df.select_dtypes(include='object').columns.tolist()\n",
    "cat_colnames"
   ]
  },
  {
   "cell_type": "code",
   "execution_count": 73,
   "id": "bdac0ae2",
   "metadata": {},
   "outputs": [
    {
     "name": "stdout",
     "output_type": "stream",
     "text": [
      "Ecology_2\n",
      "\n",
      "B    9903\n",
      "A      97\n",
      "Name: Ecology_2, dtype: int64\n",
      "****************************************************************************************************\n",
      "\n",
      "Ecology_3\n",
      "\n",
      "B    9725\n",
      "A     275\n",
      "Name: Ecology_3, dtype: int64\n",
      "****************************************************************************************************\n",
      "\n",
      "Shops_2\n",
      "\n",
      "B    9175\n",
      "A     825\n",
      "Name: Shops_2, dtype: int64\n",
      "****************************************************************************************************\n",
      "\n"
     ]
    }
   ],
   "source": [
    "for cat_colname in cat_colnames[2:]:\n",
    "    print(str(cat_colname) + '\\n\\n' + str(train_df[cat_colname].value_counts()) + '\\n' + '*' * 100 + '\\n')"
   ]
  },
  {
   "cell_type": "markdown",
   "id": "7aae8291",
   "metadata": {},
   "source": [
    "### Обработка выбросов"
   ]
  },
  {
   "cell_type": "markdown",
   "id": "ffd6a07b",
   "metadata": {},
   "source": [
    "Рассмотрим признаки в которых были выбросы подробнее. "
   ]
  },
  {
   "cell_type": "code",
   "execution_count": 74,
   "id": "8406864b",
   "metadata": {},
   "outputs": [],
   "source": [
    "#Rooms"
   ]
  },
  {
   "cell_type": "code",
   "execution_count": 75,
   "id": "f8d03e59",
   "metadata": {},
   "outputs": [
    {
     "data": {
      "text/plain": [
       "0.0        8\n",
       "1.0     3705\n",
       "2.0     3880\n",
       "3.0     2235\n",
       "4.0      150\n",
       "5.0       18\n",
       "6.0        1\n",
       "10.0       2\n",
       "19.0       1\n",
       "Name: Rooms, dtype: int64"
      ]
     },
     "execution_count": 75,
     "metadata": {},
     "output_type": "execute_result"
    }
   ],
   "source": [
    "train_df['Rooms'].value_counts().sort_index()"
   ]
  },
  {
   "cell_type": "markdown",
   "id": "6aa5cd44",
   "metadata": {},
   "source": [
    "Значения 0, 5, 6, 10, 19 монжно примем за выбросы"
   ]
  },
  {
   "cell_type": "code",
   "execution_count": 76,
   "id": "9fca27ae",
   "metadata": {},
   "outputs": [],
   "source": [
    "#Square"
   ]
  },
  {
   "cell_type": "code",
   "execution_count": 77,
   "id": "860537ee",
   "metadata": {},
   "outputs": [
    {
     "data": {
      "image/png": "[encoded data removed]",
      "text/plain": [
       "<Figure size 432x216 with 1 Axes>"
      ]
     },
     "metadata": {
      "needs_background": "light"
     },
     "output_type": "display_data"
    }
   ],
   "source": [
    "plt.figure(figsize=(6, 3))\n",
    "\n",
    "sns.boxplot(train_df['Square'], whis=1.5)\n",
    "\n",
    "plt.xlabel('Square')\n",
    "plt.show()"
   ]
  },
  {
   "cell_type": "markdown",
   "id": "4d459ffd",
   "metadata": {},
   "source": [
    "Значения больше 150 и меньше 15 являются выбросами. Заменим их на медиану."
   ]
  },
  {
   "cell_type": "code",
   "execution_count": 78,
   "id": "9e95aeaf",
   "metadata": {},
   "outputs": [],
   "source": [
    "#LifeSquare"
   ]
  },
  {
   "cell_type": "code",
   "execution_count": 79,
   "id": "36e6138e",
   "metadata": {},
   "outputs": [
    {
     "data": {
      "image/png": "[encoded data removed]",
      "text/plain": [
       "<Figure size 432x216 with 1 Axes>"
      ]
     },
     "metadata": {
      "needs_background": "light"
     },
     "output_type": "display_data"
    }
   ],
   "source": [
    "plt.figure(figsize=(6, 3))\n",
    "\n",
    "sns.boxplot(train_df['LifeSquare'], whis=1.5)\n",
    "\n",
    "plt.xlabel('LifeSquare')\n",
    "plt.show()"
   ]
  },
  {
   "cell_type": "markdown",
   "id": "00f48232",
   "metadata": {},
   "source": [
    "Значения больше 150 выбросами. Заменим их на медиану."
   ]
  },
  {
   "cell_type": "code",
   "execution_count": 80,
   "id": "0106ca24",
   "metadata": {},
   "outputs": [],
   "source": [
    "#KitchenSquare"
   ]
  },
  {
   "cell_type": "code",
   "execution_count": 81,
   "id": "56c4d10e",
   "metadata": {},
   "outputs": [
    {
     "data": {
      "image/png": "[encoded data removed]",
      "text/plain": [
       "<Figure size 432x216 with 1 Axes>"
      ]
     },
     "metadata": {
      "needs_background": "light"
     },
     "output_type": "display_data"
    }
   ],
   "source": [
    "plt.figure(figsize=(6, 3))\n",
    "\n",
    "sns.boxplot(train_df['KitchenSquare'], whis=1.5)\n",
    "\n",
    "plt.xlabel('KitchenSquare')\n",
    "plt.show()"
   ]
  },
  {
   "cell_type": "markdown",
   "id": "2b42d24b",
   "metadata": {},
   "source": [
    "Значения больше 50 выбросами. Заменим их на медиану."
   ]
  },
  {
   "cell_type": "code",
   "execution_count": 82,
   "id": "623b2119",
   "metadata": {},
   "outputs": [
    {
     "data": {
      "text/html": [
       "<div>\n",
       "<style scoped>\n",
       "    .dataframe tbody tr th:only-of-type {\n",
       "        vertical-align: middle;\n",
       "    }\n",
       "\n",
       "    .dataframe tbody tr th {\n",
       "        vertical-align: top;\n",
       "    }\n",
       "\n",
       "    .dataframe thead th {\n",
       "        text-align: right;\n",
       "    }\n",
       "</style>\n",
       "<table border=\"1\" class=\"dataframe\">\n",
       "  <thead>\n",
       "    <tr style=\"text-align: right;\">\n",
       "      <th></th>\n",
       "      <th>Rooms</th>\n",
       "      <th>Square</th>\n",
       "      <th>LifeSquare</th>\n",
       "      <th>KitchenSquare</th>\n",
       "      <th>Floor</th>\n",
       "      <th>HouseFloor</th>\n",
       "      <th>HouseYear</th>\n",
       "      <th>Ecology_1</th>\n",
       "      <th>Social_1</th>\n",
       "      <th>Social_2</th>\n",
       "      <th>Social_3</th>\n",
       "      <th>Healthcare_1</th>\n",
       "      <th>Helthcare_2</th>\n",
       "      <th>Shops_1</th>\n",
       "      <th>Price</th>\n",
       "    </tr>\n",
       "  </thead>\n",
       "  <tbody>\n",
       "    <tr>\n",
       "      <th>count</th>\n",
       "      <td>10000.000000</td>\n",
       "      <td>10000.000000</td>\n",
       "      <td>7887.000000</td>\n",
       "      <td>10000.000000</td>\n",
       "      <td>10000.000000</td>\n",
       "      <td>10000.000000</td>\n",
       "      <td>1.000000e+04</td>\n",
       "      <td>10000.000000</td>\n",
       "      <td>10000.000000</td>\n",
       "      <td>10000.000000</td>\n",
       "      <td>10000.000000</td>\n",
       "      <td>5202.000000</td>\n",
       "      <td>10000.000000</td>\n",
       "      <td>10000.000000</td>\n",
       "      <td>10000.000000</td>\n",
       "    </tr>\n",
       "    <tr>\n",
       "      <th>mean</th>\n",
       "      <td>1.890500</td>\n",
       "      <td>56.315775</td>\n",
       "      <td>37.199645</td>\n",
       "      <td>6.273300</td>\n",
       "      <td>8.526700</td>\n",
       "      <td>12.609400</td>\n",
       "      <td>3.990166e+03</td>\n",
       "      <td>0.118858</td>\n",
       "      <td>24.687000</td>\n",
       "      <td>5352.157400</td>\n",
       "      <td>8.039200</td>\n",
       "      <td>1142.904460</td>\n",
       "      <td>1.319500</td>\n",
       "      <td>4.231300</td>\n",
       "      <td>214138.857399</td>\n",
       "    </tr>\n",
       "    <tr>\n",
       "      <th>std</th>\n",
       "      <td>0.839512</td>\n",
       "      <td>21.058732</td>\n",
       "      <td>86.241209</td>\n",
       "      <td>28.560917</td>\n",
       "      <td>5.241148</td>\n",
       "      <td>6.775974</td>\n",
       "      <td>2.005003e+05</td>\n",
       "      <td>0.119025</td>\n",
       "      <td>17.532614</td>\n",
       "      <td>4006.799803</td>\n",
       "      <td>23.831875</td>\n",
       "      <td>1021.517264</td>\n",
       "      <td>1.493601</td>\n",
       "      <td>4.806341</td>\n",
       "      <td>92872.293865</td>\n",
       "    </tr>\n",
       "    <tr>\n",
       "      <th>min</th>\n",
       "      <td>0.000000</td>\n",
       "      <td>1.136859</td>\n",
       "      <td>0.370619</td>\n",
       "      <td>0.000000</td>\n",
       "      <td>1.000000</td>\n",
       "      <td>0.000000</td>\n",
       "      <td>1.910000e+03</td>\n",
       "      <td>0.000000</td>\n",
       "      <td>0.000000</td>\n",
       "      <td>168.000000</td>\n",
       "      <td>0.000000</td>\n",
       "      <td>0.000000</td>\n",
       "      <td>0.000000</td>\n",
       "      <td>0.000000</td>\n",
       "      <td>59174.778028</td>\n",
       "    </tr>\n",
       "    <tr>\n",
       "      <th>25%</th>\n",
       "      <td>1.000000</td>\n",
       "      <td>41.774881</td>\n",
       "      <td>22.769832</td>\n",
       "      <td>1.000000</td>\n",
       "      <td>4.000000</td>\n",
       "      <td>9.000000</td>\n",
       "      <td>1.974000e+03</td>\n",
       "      <td>0.017647</td>\n",
       "      <td>6.000000</td>\n",
       "      <td>1564.000000</td>\n",
       "      <td>0.000000</td>\n",
       "      <td>350.000000</td>\n",
       "      <td>0.000000</td>\n",
       "      <td>1.000000</td>\n",
       "      <td>153872.633942</td>\n",
       "    </tr>\n",
       "    <tr>\n",
       "      <th>50%</th>\n",
       "      <td>2.000000</td>\n",
       "      <td>52.513310</td>\n",
       "      <td>32.781260</td>\n",
       "      <td>6.000000</td>\n",
       "      <td>7.000000</td>\n",
       "      <td>13.000000</td>\n",
       "      <td>1.977000e+03</td>\n",
       "      <td>0.075424</td>\n",
       "      <td>25.000000</td>\n",
       "      <td>5285.000000</td>\n",
       "      <td>2.000000</td>\n",
       "      <td>900.000000</td>\n",
       "      <td>1.000000</td>\n",
       "      <td>3.000000</td>\n",
       "      <td>192269.644879</td>\n",
       "    </tr>\n",
       "    <tr>\n",
       "      <th>75%</th>\n",
       "      <td>2.000000</td>\n",
       "      <td>65.900625</td>\n",
       "      <td>45.128803</td>\n",
       "      <td>9.000000</td>\n",
       "      <td>12.000000</td>\n",
       "      <td>17.000000</td>\n",
       "      <td>2.001000e+03</td>\n",
       "      <td>0.195781</td>\n",
       "      <td>36.000000</td>\n",
       "      <td>7227.000000</td>\n",
       "      <td>5.000000</td>\n",
       "      <td>1548.000000</td>\n",
       "      <td>2.000000</td>\n",
       "      <td>6.000000</td>\n",
       "      <td>249135.462171</td>\n",
       "    </tr>\n",
       "    <tr>\n",
       "      <th>max</th>\n",
       "      <td>19.000000</td>\n",
       "      <td>641.065193</td>\n",
       "      <td>7480.592129</td>\n",
       "      <td>2014.000000</td>\n",
       "      <td>42.000000</td>\n",
       "      <td>117.000000</td>\n",
       "      <td>2.005201e+07</td>\n",
       "      <td>0.521867</td>\n",
       "      <td>74.000000</td>\n",
       "      <td>19083.000000</td>\n",
       "      <td>141.000000</td>\n",
       "      <td>4849.000000</td>\n",
       "      <td>6.000000</td>\n",
       "      <td>23.000000</td>\n",
       "      <td>633233.466570</td>\n",
       "    </tr>\n",
       "  </tbody>\n",
       "</table>\n",
       "</div>"
      ],
      "text/plain": [
       "              Rooms        Square   LifeSquare  KitchenSquare         Floor  \\\n",
       "count  10000.000000  10000.000000  7887.000000   10000.000000  10000.000000   \n",
       "mean       1.890500     56.315775    37.199645       6.273300      8.526700   \n",
       "std        0.839512     21.058732    86.241209      28.560917      5.241148   \n",
       "min        0.000000      1.136859     0.370619       0.000000      1.000000   \n",
       "25%        1.000000     41.774881    22.769832       1.000000      4.000000   \n",
       "50%        2.000000     52.513310    32.781260       6.000000      7.000000   \n",
       "75%        2.000000     65.900625    45.128803       9.000000     12.000000   \n",
       "max       19.000000    641.065193  7480.592129    2014.000000     42.000000   \n",
       "\n",
       "         HouseFloor     HouseYear     Ecology_1      Social_1      Social_2  \\\n",
       "count  10000.000000  1.000000e+04  10000.000000  10000.000000  10000.000000   \n",
       "mean      12.609400  3.990166e+03      0.118858     24.687000   5352.157400   \n",
       "std        6.775974  2.005003e+05      0.119025     17.532614   4006.799803   \n",
       "min        0.000000  1.910000e+03      0.000000      0.000000    168.000000   \n",
       "25%        9.000000  1.974000e+03      0.017647      6.000000   1564.000000   \n",
       "50%       13.000000  1.977000e+03      0.075424     25.000000   5285.000000   \n",
       "75%       17.000000  2.001000e+03      0.195781     36.000000   7227.000000   \n",
       "max      117.000000  2.005201e+07      0.521867     74.000000  19083.000000   \n",
       "\n",
       "           Social_3  Healthcare_1   Helthcare_2       Shops_1          Price  \n",
       "count  10000.000000   5202.000000  10000.000000  10000.000000   10000.000000  \n",
       "mean       8.039200   1142.904460      1.319500      4.231300  214138.857399  \n",
       "std       23.831875   1021.517264      1.493601      4.806341   92872.293865  \n",
       "min        0.000000      0.000000      0.000000      0.000000   59174.778028  \n",
       "25%        0.000000    350.000000      0.000000      1.000000  153872.633942  \n",
       "50%        2.000000    900.000000      1.000000      3.000000  192269.644879  \n",
       "75%        5.000000   1548.000000      2.000000      6.000000  249135.462171  \n",
       "max      141.000000   4849.000000      6.000000     23.000000  633233.466570  "
      ]
     },
     "execution_count": 82,
     "metadata": {},
     "output_type": "execute_result"
    }
   ],
   "source": [
    "train_df.describe()"
   ]
  },
  {
   "cell_type": "markdown",
   "id": "74263059",
   "metadata": {},
   "source": [
    "В некоторых строках сумма жилой площади и кухни больше общей площади квартиры. "
   ]
  },
  {
   "cell_type": "code",
   "execution_count": 83,
   "id": "8fc5e134",
   "metadata": {},
   "outputs": [
    {
     "data": {
      "text/html": [
       "<div>\n",
       "<style scoped>\n",
       "    .dataframe tbody tr th:only-of-type {\n",
       "        vertical-align: middle;\n",
       "    }\n",
       "\n",
       "    .dataframe tbody tr th {\n",
       "        vertical-align: top;\n",
       "    }\n",
       "\n",
       "    .dataframe thead th {\n",
       "        text-align: right;\n",
       "    }\n",
       "</style>\n",
       "<table border=\"1\" class=\"dataframe\">\n",
       "  <thead>\n",
       "    <tr style=\"text-align: right;\">\n",
       "      <th></th>\n",
       "      <th>Rooms</th>\n",
       "      <th>Square</th>\n",
       "      <th>LifeSquare</th>\n",
       "      <th>KitchenSquare</th>\n",
       "      <th>Floor</th>\n",
       "      <th>HouseFloor</th>\n",
       "      <th>HouseYear</th>\n",
       "      <th>Ecology_1</th>\n",
       "      <th>Social_1</th>\n",
       "      <th>Social_2</th>\n",
       "      <th>Social_3</th>\n",
       "      <th>Healthcare_1</th>\n",
       "      <th>Helthcare_2</th>\n",
       "      <th>Shops_1</th>\n",
       "      <th>Price</th>\n",
       "    </tr>\n",
       "  </thead>\n",
       "  <tbody>\n",
       "    <tr>\n",
       "      <th>count</th>\n",
       "      <td>845.000000</td>\n",
       "      <td>845.000000</td>\n",
       "      <td>845.000000</td>\n",
       "      <td>845.000000</td>\n",
       "      <td>845.000000</td>\n",
       "      <td>845.000000</td>\n",
       "      <td>845.000000</td>\n",
       "      <td>845.000000</td>\n",
       "      <td>845.000000</td>\n",
       "      <td>845.000000</td>\n",
       "      <td>845.000000</td>\n",
       "      <td>313.000000</td>\n",
       "      <td>845.000000</td>\n",
       "      <td>845.000000</td>\n",
       "      <td>845.000000</td>\n",
       "    </tr>\n",
       "    <tr>\n",
       "      <th>mean</th>\n",
       "      <td>1.766864</td>\n",
       "      <td>59.145433</td>\n",
       "      <td>68.782054</td>\n",
       "      <td>11.160947</td>\n",
       "      <td>9.797633</td>\n",
       "      <td>14.101775</td>\n",
       "      <td>2000.353846</td>\n",
       "      <td>0.105389</td>\n",
       "      <td>16.360947</td>\n",
       "      <td>3771.007101</td>\n",
       "      <td>8.663905</td>\n",
       "      <td>882.322684</td>\n",
       "      <td>0.871006</td>\n",
       "      <td>3.528994</td>\n",
       "      <td>200907.622912</td>\n",
       "    </tr>\n",
       "    <tr>\n",
       "      <th>std</th>\n",
       "      <td>0.824012</td>\n",
       "      <td>32.663061</td>\n",
       "      <td>257.842899</td>\n",
       "      <td>97.293152</td>\n",
       "      <td>6.024869</td>\n",
       "      <td>8.652264</td>\n",
       "      <td>19.752893</td>\n",
       "      <td>0.109640</td>\n",
       "      <td>17.079439</td>\n",
       "      <td>3982.369298</td>\n",
       "      <td>28.699550</td>\n",
       "      <td>721.557527</td>\n",
       "      <td>1.368631</td>\n",
       "      <td>5.267550</td>\n",
       "      <td>99063.886453</td>\n",
       "    </tr>\n",
       "    <tr>\n",
       "      <th>min</th>\n",
       "      <td>1.000000</td>\n",
       "      <td>1.136859</td>\n",
       "      <td>1.626502</td>\n",
       "      <td>0.000000</td>\n",
       "      <td>1.000000</td>\n",
       "      <td>0.000000</td>\n",
       "      <td>1918.000000</td>\n",
       "      <td>0.000000</td>\n",
       "      <td>0.000000</td>\n",
       "      <td>168.000000</td>\n",
       "      <td>0.000000</td>\n",
       "      <td>30.000000</td>\n",
       "      <td>0.000000</td>\n",
       "      <td>0.000000</td>\n",
       "      <td>59877.592523</td>\n",
       "    </tr>\n",
       "    <tr>\n",
       "      <th>25%</th>\n",
       "      <td>1.000000</td>\n",
       "      <td>41.481906</td>\n",
       "      <td>41.675761</td>\n",
       "      <td>1.000000</td>\n",
       "      <td>5.000000</td>\n",
       "      <td>9.000000</td>\n",
       "      <td>1977.000000</td>\n",
       "      <td>0.014073</td>\n",
       "      <td>2.000000</td>\n",
       "      <td>629.000000</td>\n",
       "      <td>0.000000</td>\n",
       "      <td>540.000000</td>\n",
       "      <td>0.000000</td>\n",
       "      <td>0.000000</td>\n",
       "      <td>133166.163513</td>\n",
       "    </tr>\n",
       "    <tr>\n",
       "      <th>50%</th>\n",
       "      <td>2.000000</td>\n",
       "      <td>53.258610</td>\n",
       "      <td>53.983730</td>\n",
       "      <td>1.000000</td>\n",
       "      <td>8.000000</td>\n",
       "      <td>17.000000</td>\n",
       "      <td>2015.000000</td>\n",
       "      <td>0.072158</td>\n",
       "      <td>8.000000</td>\n",
       "      <td>1564.000000</td>\n",
       "      <td>1.000000</td>\n",
       "      <td>705.000000</td>\n",
       "      <td>0.000000</td>\n",
       "      <td>1.000000</td>\n",
       "      <td>177948.133001</td>\n",
       "    </tr>\n",
       "    <tr>\n",
       "      <th>75%</th>\n",
       "      <td>2.000000</td>\n",
       "      <td>68.767146</td>\n",
       "      <td>68.712203</td>\n",
       "      <td>10.000000</td>\n",
       "      <td>14.000000</td>\n",
       "      <td>17.000000</td>\n",
       "      <td>2017.000000</td>\n",
       "      <td>0.195781</td>\n",
       "      <td>26.000000</td>\n",
       "      <td>6207.000000</td>\n",
       "      <td>4.000000</td>\n",
       "      <td>1046.000000</td>\n",
       "      <td>1.000000</td>\n",
       "      <td>5.000000</td>\n",
       "      <td>237969.144323</td>\n",
       "    </tr>\n",
       "    <tr>\n",
       "      <th>max</th>\n",
       "      <td>5.000000</td>\n",
       "      <td>641.065193</td>\n",
       "      <td>7480.592129</td>\n",
       "      <td>2014.000000</td>\n",
       "      <td>28.000000</td>\n",
       "      <td>117.000000</td>\n",
       "      <td>2020.000000</td>\n",
       "      <td>0.486246</td>\n",
       "      <td>74.000000</td>\n",
       "      <td>19083.000000</td>\n",
       "      <td>141.000000</td>\n",
       "      <td>4508.000000</td>\n",
       "      <td>6.000000</td>\n",
       "      <td>23.000000</td>\n",
       "      <td>621002.912679</td>\n",
       "    </tr>\n",
       "  </tbody>\n",
       "</table>\n",
       "</div>"
      ],
      "text/plain": [
       "            Rooms      Square   LifeSquare  KitchenSquare       Floor  \\\n",
       "count  845.000000  845.000000   845.000000     845.000000  845.000000   \n",
       "mean     1.766864   59.145433    68.782054      11.160947    9.797633   \n",
       "std      0.824012   32.663061   257.842899      97.293152    6.024869   \n",
       "min      1.000000    1.136859     1.626502       0.000000    1.000000   \n",
       "25%      1.000000   41.481906    41.675761       1.000000    5.000000   \n",
       "50%      2.000000   53.258610    53.983730       1.000000    8.000000   \n",
       "75%      2.000000   68.767146    68.712203      10.000000   14.000000   \n",
       "max      5.000000  641.065193  7480.592129    2014.000000   28.000000   \n",
       "\n",
       "       HouseFloor    HouseYear   Ecology_1    Social_1      Social_2  \\\n",
       "count  845.000000   845.000000  845.000000  845.000000    845.000000   \n",
       "mean    14.101775  2000.353846    0.105389   16.360947   3771.007101   \n",
       "std      8.652264    19.752893    0.109640   17.079439   3982.369298   \n",
       "min      0.000000  1918.000000    0.000000    0.000000    168.000000   \n",
       "25%      9.000000  1977.000000    0.014073    2.000000    629.000000   \n",
       "50%     17.000000  2015.000000    0.072158    8.000000   1564.000000   \n",
       "75%     17.000000  2017.000000    0.195781   26.000000   6207.000000   \n",
       "max    117.000000  2020.000000    0.486246   74.000000  19083.000000   \n",
       "\n",
       "         Social_3  Healthcare_1  Helthcare_2     Shops_1          Price  \n",
       "count  845.000000    313.000000   845.000000  845.000000     845.000000  \n",
       "mean     8.663905    882.322684     0.871006    3.528994  200907.622912  \n",
       "std     28.699550    721.557527     1.368631    5.267550   99063.886453  \n",
       "min      0.000000     30.000000     0.000000    0.000000   59877.592523  \n",
       "25%      0.000000    540.000000     0.000000    0.000000  133166.163513  \n",
       "50%      1.000000    705.000000     0.000000    1.000000  177948.133001  \n",
       "75%      4.000000   1046.000000     1.000000    5.000000  237969.144323  \n",
       "max    141.000000   4508.000000     6.000000   23.000000  621002.912679  "
      ]
     },
     "execution_count": 83,
     "metadata": {},
     "output_type": "execute_result"
    }
   ],
   "source": [
    "mask = train_df[\"Square\"] < train_df[\"KitchenSquare\"] + train_df[\"LifeSquare\"]\n",
    "train_df.loc[mask].describe()"
   ]
  },
  {
   "cell_type": "code",
   "execution_count": 84,
   "id": "d6a18ce1",
   "metadata": {},
   "outputs": [],
   "source": [
    "#HouseFloor"
   ]
  },
  {
   "cell_type": "code",
   "execution_count": 85,
   "id": "8b3c7a6f",
   "metadata": {},
   "outputs": [
    {
     "data": {
      "text/plain": [
       "array([  0.,   1.,   2.,   3.,   4.,   5.,   6.,   7.,   8.,   9.,  10.,\n",
       "        11.,  12.,  13.,  14.,  15.,  16.,  17.,  18.,  19.,  20.,  21.,\n",
       "        22.,  23.,  24.,  25.,  26.,  27.,  28.,  29.,  30.,  31.,  32.,\n",
       "        36.,  37.,  38.,  39.,  40.,  44.,  45.,  47.,  48.,  99., 117.])"
      ]
     },
     "execution_count": 85,
     "metadata": {},
     "output_type": "execute_result"
    }
   ],
   "source": [
    "train_df['HouseFloor'].sort_values().unique()"
   ]
  },
  {
   "cell_type": "code",
   "execution_count": 86,
   "id": "089c644a",
   "metadata": {},
   "outputs": [],
   "source": [
    "#Floor"
   ]
  },
  {
   "cell_type": "code",
   "execution_count": 87,
   "id": "545c080a",
   "metadata": {},
   "outputs": [
    {
     "data": {
      "text/plain": [
       "array([ 1,  2,  3,  4,  5,  6,  7,  8,  9, 10, 11, 12, 13, 14, 15, 16, 17,\n",
       "       18, 19, 20, 21, 22, 23, 24, 25, 26, 27, 28, 31, 32, 33, 37, 42],\n",
       "      dtype=int64)"
      ]
     },
     "execution_count": 87,
     "metadata": {},
     "output_type": "execute_result"
    }
   ],
   "source": [
    "train_df['Floor'].sort_values().unique()"
   ]
  },
  {
   "cell_type": "markdown",
   "id": "e9e26995",
   "metadata": {},
   "source": [
    "В признаке HouseFloor явно есть выбросы. "
   ]
  },
  {
   "cell_type": "code",
   "execution_count": 88,
   "id": "3d177499",
   "metadata": {},
   "outputs": [],
   "source": [
    "#HouseYear"
   ]
  },
  {
   "cell_type": "code",
   "execution_count": 89,
   "id": "b204fd50",
   "metadata": {},
   "outputs": [
    {
     "data": {
      "text/plain": [
       "1910          1\n",
       "1912          2\n",
       "1914          1\n",
       "1916          1\n",
       "1917          3\n",
       "           ... \n",
       "2018        175\n",
       "2019         79\n",
       "2020         19\n",
       "4968          1\n",
       "20052011      1\n",
       "Name: HouseYear, Length: 97, dtype: int64"
      ]
     },
     "execution_count": 89,
     "metadata": {},
     "output_type": "execute_result"
    }
   ],
   "source": [
    "train_df['HouseYear'].value_counts().sort_index()"
   ]
  },
  {
   "cell_type": "markdown",
   "id": "f4d7278f",
   "metadata": {},
   "source": [
    "Заменим значения больше, чем 2020 - 2020 годом."
   ]
  },
  {
   "cell_type": "markdown",
   "id": "05775ab0",
   "metadata": {},
   "source": [
    "### Обработка пропусков"
   ]
  },
  {
   "cell_type": "code",
   "execution_count": 90,
   "id": "8354e2a4",
   "metadata": {},
   "outputs": [
    {
     "data": {
      "text/plain": [
       "Id                  0\n",
       "DistrictId          0\n",
       "Rooms               0\n",
       "Square              0\n",
       "LifeSquare       2113\n",
       "KitchenSquare       0\n",
       "Floor               0\n",
       "HouseFloor          0\n",
       "HouseYear           0\n",
       "Ecology_1           0\n",
       "Ecology_2           0\n",
       "Ecology_3           0\n",
       "Social_1            0\n",
       "Social_2            0\n",
       "Social_3            0\n",
       "Healthcare_1     4798\n",
       "Helthcare_2         0\n",
       "Shops_1             0\n",
       "Shops_2             0\n",
       "Price               0\n",
       "dtype: int64"
      ]
     },
     "execution_count": 90,
     "metadata": {},
     "output_type": "execute_result"
    }
   ],
   "source": [
    "len(train_df) - train_df.count()"
   ]
  },
  {
   "cell_type": "markdown",
   "id": "86feb065",
   "metadata": {},
   "source": [
    "В LifeSquare и Healthcare_1 имеются пропуски. "
   ]
  },
  {
   "cell_type": "markdown",
   "id": "8dcfb07d",
   "metadata": {},
   "source": [
    "Построим матрицу корреляций "
   ]
  },
  {
   "cell_type": "code",
   "execution_count": 91,
   "id": "517b4319",
   "metadata": {},
   "outputs": [
    {
     "data": {
      "image/png": "[encoded data removed]",
      "text/plain": [
       "<Figure size 1080x720 with 2 Axes>"
      ]
     },
     "metadata": {
      "needs_background": "light"
     },
     "output_type": "display_data"
    }
   ],
   "source": [
    "plt.figure(figsize = (15,10))\n",
    "\n",
    "sns.set(font_scale=1.4)\n",
    "\n",
    "corr_matrix = train_df.corr()\n",
    "corr_matrix = np.round(corr_matrix, 2)\n",
    "corr_matrix[np.abs(corr_matrix) < 0.3] = 0\n",
    "\n",
    "sns.heatmap(corr_matrix, annot=True, linewidths=.5, cmap='viridis')\n",
    "\n",
    "plt.title('Correlation matrix')\n",
    "plt.show()"
   ]
  },
  {
   "cell_type": "markdown",
   "id": "0ca5fe69",
   "metadata": {},
   "source": [
    "Признак Helthcare_2 связан с Social_1, Social_2, Shops_1 и Districtid. Посмотрим, какие значения хранит этот признак. "
   ]
  },
  {
   "cell_type": "code",
   "execution_count": 92,
   "id": "88fb3eb7",
   "metadata": {},
   "outputs": [
    {
     "data": {
      "text/plain": [
       "array([0, 1, 2, 3, 4, 5, 6], dtype=int64)"
      ]
     },
     "execution_count": 92,
     "metadata": {},
     "output_type": "execute_result"
    }
   ],
   "source": [
    "train_df['Helthcare_2'].sort_values().unique()"
   ]
  },
  {
   "cell_type": "markdown",
   "id": "2785927d",
   "metadata": {},
   "source": [
    "Можем построить признак среднего значения в районе."
   ]
  },
  {
   "cell_type": "markdown",
   "id": "b10c8346",
   "metadata": {},
   "source": [
    "### Построение новых признаков"
   ]
  },
  {
   "cell_type": "markdown",
   "id": "f3434bc4",
   "metadata": {},
   "source": [
    "* Приведем категориальные признаки Shops_1, Ecology_2, Ecology_3 к числовому типу. Так как они содержат значения A и B, можем их заменить на 0 и 1. \n",
    "* Объединим Social_1 и Social_2\n",
    "* Введем новый признак MedPriceByDistrict(средняя цена в зависимости от количетсва комант и района)\n",
    "* Так же добавим признак - средняя цена по райну на один квадратный метр. "
   ]
  },
  {
   "cell_type": "markdown",
   "id": "bc9c2553",
   "metadata": {},
   "source": [
    "### Класс обработки данных"
   ]
  },
  {
   "cell_type": "code",
   "execution_count": 93,
   "id": "8c1b6bb8",
   "metadata": {},
   "outputs": [],
   "source": [
    "class Data:\n",
    "    \n",
    "    def __init__(self):\n",
    "       \n",
    "        self.Square_min = 15\n",
    "        self.Square_max = 200\n",
    "        \n",
    "        self.LifeSquare_min = 10\n",
    "        self.LifeSquare_max = 200\n",
    "        \n",
    "        self.KitchenSquare_min = 3\n",
    "        self.LifeSquare_max = 15\n",
    "        \n",
    "        self.medians = None\n",
    "        self.DistrictId_value_counts = None\n",
    "        self.SquareMeterPrice_by_DistrictId = None\n",
    "        self.Healthcare_1_by_DistrictId = None\n",
    "        \n",
    "        \n",
    "    def fit(self, df):\n",
    "        \n",
    "        # медианны\n",
    "        self.medians = df[['LifeSquare', 'HouseFloor']].median()\n",
    "        \n",
    "        # подсчет популярных районов\n",
    "        self.DistrictId_value_counts = dict(df['DistrictId'].value_counts())\n",
    "        \n",
    "        # подсчет средней цены за м2 по району\n",
    "        df_temp = df.loc[((df['Square'] > self.Square_min) & (df['Square'] < self.Square_max))]\n",
    "        df_temp[\"Square_Meter_Price\"] = df_temp[\"Price\"] / df_temp[\"Square\"]\n",
    "        self.SquareMeterPrice_by_DistrictId = df_temp.groupby('DistrictId', as_index=False)\\\n",
    "            .agg({'Square_Meter_Price': 'mean'})\\\n",
    "            .rename(columns={'Square_Meter_Price': 'Average_Square_Price'})\n",
    "        \n",
    "        # подсчет среднего значения признака Healthcare_2 по району\n",
    "        self.Helthcare_2_by_DistrictId = df.groupby('DistrictId', as_index=False)\\\n",
    "            .agg({'Helthcare_2': 'mean'})\\\n",
    "            .rename(columns={'Helthcare_2': 'Average_Helthcare_2'})\n",
    "        \n",
    "        del df_temp\n",
    "        \n",
    "    def transform(self, df):\n",
    "        \n",
    "        # Обработка пропусков\n",
    "        df[['LifeSquare', 'HouseFloor']] = df[['LifeSquare', 'HouseFloor']].fillna(self.medians)\n",
    "        df.loc[df['Healthcare_1'].isnull(), 'Healthcare_1'] = df['Healthcare_1'].median()\n",
    "        \n",
    "        # Обработка выбросов\n",
    "        \n",
    "        # количество комнат\n",
    "        df.loc[df['Rooms'].isin([0, 6, 10, 19]), 'Rooms'] = df['Rooms'].median()\n",
    "        \n",
    "        # жилая площадь\n",
    "        df.loc[(df['LifeSquare'] < self.LifeSquare_min), 'LifeSquare'] = self.LifeSquare_min\n",
    "        df.loc[(df['LifeSquare'] > self.LifeSquare_max), 'LifeSquare'] = self.LifeSquare_max\n",
    "        \n",
    "        # площадь кухни\n",
    "        df.loc[(df['KitchenSquare'] < self.KitchenSquare_min), 'KitchenSquare'] = self.KitchenSquare_min\n",
    "        \n",
    "        # площадь\n",
    "        df.loc[(df['Square'] > self.Square_max), 'Square'] = self.Square_max\n",
    "        df.loc[(df['Square'] < self.Square_min), 'Square'] = self.Square_min\n",
    "        df.loc[df['Square'] < (df[\"KitchenSquare\"] + df[\"LifeSquare\"]), 'Square'] = df[\"KitchenSquare\"] + df[\"LifeSquare\"] + 10\n",
    "        \n",
    "        # год постройки дома\n",
    "        df.loc[df['HouseYear'] > 2020, 'HouseYear'] = 2020\n",
    "        \n",
    "        # количество этажей\n",
    "        df.loc[df['HouseFloor'] == 0, 'HouseFloor'] = int(df['HouseFloor'].median())\n",
    "        np.random.seed(27)\n",
    "        floor_outliers = df[df['Floor'] > df['HouseFloor']].index\n",
    "        print(len(floor_outliers))\n",
    "\n",
    "        df.loc[floor_outliers, 'Floor'] = df.loc[floor_outliers, 'HouseFloor'].apply(\n",
    "            lambda x: random.randint(1, x)\n",
    "        )\n",
    "        \n",
    "        # Обработка категорий\n",
    "        df = pd.concat([df, pd.get_dummies(df['Ecology_2'], prefix='Ecology_2', dtype='int8')], axis=1)\n",
    "        df = pd.concat([df, pd.get_dummies(df['Ecology_3'], prefix='Ecology_3', dtype='int8')], axis=1)\n",
    "        df = pd.concat([df, pd.get_dummies(df['Shops_2'], prefix='Shops_2', dtype='int8')], axis=1)\n",
    "        \n",
    "        return df\n",
    "    \n",
    "    def features(self, df):\n",
    "        \n",
    "        # признак средней стоимости м2 по району\n",
    "        df = df.merge(self.SquareMeterPrice_by_DistrictId, on=[\"DistrictId\"], how='left')\n",
    "        df['Average_Square_Price'].fillna(df['Average_Square_Price'].median(), inplace=True)\n",
    "        \n",
    "        # признак среднего значения Helthcare_2 по району\n",
    "        df = df.merge(self.Helthcare_2_by_DistrictId, on=[\"DistrictId\"], how='left')\n",
    "        df['Average_Helthcare_2'].fillna(df['Average_Helthcare_2'].median(), inplace=True)\n",
    "        \n",
    "        df[\"SociaLL\"] = df.Social_1 + df.Social_2\n",
    "        \n",
    "        return df"
   ]
  },
  {
   "cell_type": "markdown",
   "id": "27ef956f",
   "metadata": {},
   "source": [
    "### Инициализация класса"
   ]
  },
  {
   "cell_type": "code",
   "execution_count": 94,
   "id": "a6439bab",
   "metadata": {},
   "outputs": [
    {
     "name": "stdout",
     "output_type": "stream",
     "text": [
      "1610\n",
      "792\n"
     ]
    }
   ],
   "source": [
    "data_inst = Data()\n",
    "\n",
    "data_inst.fit(train_df)\n",
    "train_df = data_inst.transform(train_df)\n",
    "train_df = data_inst.features(train_df)\n",
    "\n",
    "test_df = data_inst.transform(test_df)\n",
    "test_df = data_inst.features(test_df)"
   ]
  },
  {
   "cell_type": "code",
   "execution_count": 95,
   "id": "bab7f5a5",
   "metadata": {},
   "outputs": [],
   "source": [
    "#добавим еще один признак 'MedPriceByDistrict'"
   ]
  },
  {
   "cell_type": "code",
   "execution_count": 96,
   "id": "0757f07f",
   "metadata": {},
   "outputs": [],
   "source": [
    "med_price_by_district = train_df.groupby(['DistrictId', 'Rooms'], as_index=False).agg({'Price':'median'})\\\n",
    "                       .rename(columns={'Price':'MedPriceByDistrict'})\n"
   ]
  },
  {
   "cell_type": "code",
   "execution_count": 97,
   "id": "519b81a2",
   "metadata": {},
   "outputs": [],
   "source": [
    "train_df = train_df.merge(med_price_by_district, on=['DistrictId', 'Rooms'], how='left')"
   ]
  },
  {
   "cell_type": "code",
   "execution_count": 98,
   "id": "e88158ae",
   "metadata": {},
   "outputs": [],
   "source": [
    "test_df['DistrictId'] = test_df['DistrictId'].astype(str)"
   ]
  },
  {
   "cell_type": "code",
   "execution_count": 99,
   "id": "57d8a572",
   "metadata": {},
   "outputs": [
    {
     "data": {
      "text/html": [
       "<div>\n",
       "<style scoped>\n",
       "    .dataframe tbody tr th:only-of-type {\n",
       "        vertical-align: middle;\n",
       "    }\n",
       "\n",
       "    .dataframe tbody tr th {\n",
       "        vertical-align: top;\n",
       "    }\n",
       "\n",
       "    .dataframe thead th {\n",
       "        text-align: right;\n",
       "    }\n",
       "</style>\n",
       "<table border=\"1\" class=\"dataframe\">\n",
       "  <thead>\n",
       "    <tr style=\"text-align: right;\">\n",
       "      <th></th>\n",
       "      <th>Id</th>\n",
       "      <th>DistrictId</th>\n",
       "      <th>Rooms</th>\n",
       "      <th>Square</th>\n",
       "      <th>LifeSquare</th>\n",
       "      <th>KitchenSquare</th>\n",
       "      <th>Floor</th>\n",
       "      <th>HouseFloor</th>\n",
       "      <th>HouseYear</th>\n",
       "      <th>Ecology_1</th>\n",
       "      <th>...</th>\n",
       "      <th>Ecology_2_A</th>\n",
       "      <th>Ecology_2_B</th>\n",
       "      <th>Ecology_3_A</th>\n",
       "      <th>Ecology_3_B</th>\n",
       "      <th>Shops_2_A</th>\n",
       "      <th>Shops_2_B</th>\n",
       "      <th>Average_Square_Price</th>\n",
       "      <th>Average_Helthcare_2</th>\n",
       "      <th>SociaLL</th>\n",
       "      <th>MedPriceByDistrict</th>\n",
       "    </tr>\n",
       "  </thead>\n",
       "  <tbody>\n",
       "    <tr>\n",
       "      <th>0</th>\n",
       "      <td>4567</td>\n",
       "      <td>44</td>\n",
       "      <td>1.0</td>\n",
       "      <td>36.847630</td>\n",
       "      <td>15.0</td>\n",
       "      <td>5.0</td>\n",
       "      <td>5</td>\n",
       "      <td>9.0</td>\n",
       "      <td>1970</td>\n",
       "      <td>0.036122</td>\n",
       "      <td>...</td>\n",
       "      <td>0</td>\n",
       "      <td>1</td>\n",
       "      <td>0</td>\n",
       "      <td>1</td>\n",
       "      <td>0</td>\n",
       "      <td>1</td>\n",
       "      <td>4572.483767</td>\n",
       "      <td>0.788462</td>\n",
       "      <td>4402</td>\n",
       "      <td>171145.169069</td>\n",
       "    </tr>\n",
       "    <tr>\n",
       "      <th>1</th>\n",
       "      <td>5925</td>\n",
       "      <td>62</td>\n",
       "      <td>1.0</td>\n",
       "      <td>42.493907</td>\n",
       "      <td>15.0</td>\n",
       "      <td>10.0</td>\n",
       "      <td>7</td>\n",
       "      <td>17.0</td>\n",
       "      <td>2017</td>\n",
       "      <td>0.072158</td>\n",
       "      <td>...</td>\n",
       "      <td>0</td>\n",
       "      <td>1</td>\n",
       "      <td>0</td>\n",
       "      <td>1</td>\n",
       "      <td>1</td>\n",
       "      <td>0</td>\n",
       "      <td>2818.749357</td>\n",
       "      <td>0.121457</td>\n",
       "      <td>631</td>\n",
       "      <td>129107.218932</td>\n",
       "    </tr>\n",
       "    <tr>\n",
       "      <th>2</th>\n",
       "      <td>960</td>\n",
       "      <td>27</td>\n",
       "      <td>2.0</td>\n",
       "      <td>59.463678</td>\n",
       "      <td>15.0</td>\n",
       "      <td>9.0</td>\n",
       "      <td>19</td>\n",
       "      <td>19.0</td>\n",
       "      <td>1977</td>\n",
       "      <td>0.211401</td>\n",
       "      <td>...</td>\n",
       "      <td>0</td>\n",
       "      <td>1</td>\n",
       "      <td>0</td>\n",
       "      <td>1</td>\n",
       "      <td>0</td>\n",
       "      <td>1</td>\n",
       "      <td>2767.768067</td>\n",
       "      <td>0.058754</td>\n",
       "      <td>1901</td>\n",
       "      <td>165700.355193</td>\n",
       "    </tr>\n",
       "    <tr>\n",
       "      <th>3</th>\n",
       "      <td>3848</td>\n",
       "      <td>23</td>\n",
       "      <td>3.0</td>\n",
       "      <td>49.646030</td>\n",
       "      <td>15.0</td>\n",
       "      <td>6.0</td>\n",
       "      <td>2</td>\n",
       "      <td>2.0</td>\n",
       "      <td>1965</td>\n",
       "      <td>0.014073</td>\n",
       "      <td>...</td>\n",
       "      <td>0</td>\n",
       "      <td>1</td>\n",
       "      <td>0</td>\n",
       "      <td>1</td>\n",
       "      <td>0</td>\n",
       "      <td>1</td>\n",
       "      <td>2284.108677</td>\n",
       "      <td>0.000000</td>\n",
       "      <td>477</td>\n",
       "      <td>166687.735824</td>\n",
       "    </tr>\n",
       "    <tr>\n",
       "      <th>4</th>\n",
       "      <td>746</td>\n",
       "      <td>74</td>\n",
       "      <td>1.0</td>\n",
       "      <td>53.837056</td>\n",
       "      <td>15.0</td>\n",
       "      <td>3.0</td>\n",
       "      <td>8</td>\n",
       "      <td>17.0</td>\n",
       "      <td>1977</td>\n",
       "      <td>0.309479</td>\n",
       "      <td>...</td>\n",
       "      <td>0</td>\n",
       "      <td>1</td>\n",
       "      <td>0</td>\n",
       "      <td>1</td>\n",
       "      <td>0</td>\n",
       "      <td>1</td>\n",
       "      <td>3355.343060</td>\n",
       "      <td>0.359649</td>\n",
       "      <td>7750</td>\n",
       "      <td>165071.825722</td>\n",
       "    </tr>\n",
       "    <tr>\n",
       "      <th>...</th>\n",
       "      <td>...</td>\n",
       "      <td>...</td>\n",
       "      <td>...</td>\n",
       "      <td>...</td>\n",
       "      <td>...</td>\n",
       "      <td>...</td>\n",
       "      <td>...</td>\n",
       "      <td>...</td>\n",
       "      <td>...</td>\n",
       "      <td>...</td>\n",
       "      <td>...</td>\n",
       "      <td>...</td>\n",
       "      <td>...</td>\n",
       "      <td>...</td>\n",
       "      <td>...</td>\n",
       "      <td>...</td>\n",
       "      <td>...</td>\n",
       "      <td>...</td>\n",
       "      <td>...</td>\n",
       "      <td>...</td>\n",
       "      <td>...</td>\n",
       "    </tr>\n",
       "    <tr>\n",
       "      <th>4995</th>\n",
       "      <td>10379</td>\n",
       "      <td>29</td>\n",
       "      <td>2.0</td>\n",
       "      <td>43.177521</td>\n",
       "      <td>15.0</td>\n",
       "      <td>5.0</td>\n",
       "      <td>3</td>\n",
       "      <td>5.0</td>\n",
       "      <td>1962</td>\n",
       "      <td>0.069660</td>\n",
       "      <td>...</td>\n",
       "      <td>0</td>\n",
       "      <td>1</td>\n",
       "      <td>0</td>\n",
       "      <td>1</td>\n",
       "      <td>0</td>\n",
       "      <td>1</td>\n",
       "      <td>4145.367548</td>\n",
       "      <td>0.865169</td>\n",
       "      <td>6150</td>\n",
       "      <td>185083.534141</td>\n",
       "    </tr>\n",
       "    <tr>\n",
       "      <th>4996</th>\n",
       "      <td>16138</td>\n",
       "      <td>38</td>\n",
       "      <td>3.0</td>\n",
       "      <td>93.698122</td>\n",
       "      <td>15.0</td>\n",
       "      <td>10.0</td>\n",
       "      <td>21</td>\n",
       "      <td>27.0</td>\n",
       "      <td>2018</td>\n",
       "      <td>0.060753</td>\n",
       "      <td>...</td>\n",
       "      <td>0</td>\n",
       "      <td>1</td>\n",
       "      <td>0</td>\n",
       "      <td>1</td>\n",
       "      <td>0</td>\n",
       "      <td>1</td>\n",
       "      <td>4515.795241</td>\n",
       "      <td>0.000000</td>\n",
       "      <td>2802</td>\n",
       "      <td>425037.641820</td>\n",
       "    </tr>\n",
       "    <tr>\n",
       "      <th>4997</th>\n",
       "      <td>3912</td>\n",
       "      <td>101</td>\n",
       "      <td>1.0</td>\n",
       "      <td>33.656723</td>\n",
       "      <td>15.0</td>\n",
       "      <td>5.0</td>\n",
       "      <td>2</td>\n",
       "      <td>5.0</td>\n",
       "      <td>1966</td>\n",
       "      <td>0.038693</td>\n",
       "      <td>...</td>\n",
       "      <td>0</td>\n",
       "      <td>1</td>\n",
       "      <td>0</td>\n",
       "      <td>1</td>\n",
       "      <td>0</td>\n",
       "      <td>1</td>\n",
       "      <td>4177.749766</td>\n",
       "      <td>2.773196</td>\n",
       "      <td>6561</td>\n",
       "      <td>151926.384470</td>\n",
       "    </tr>\n",
       "    <tr>\n",
       "      <th>4998</th>\n",
       "      <td>5722</td>\n",
       "      <td>10</td>\n",
       "      <td>1.0</td>\n",
       "      <td>38.635155</td>\n",
       "      <td>15.0</td>\n",
       "      <td>9.0</td>\n",
       "      <td>8</td>\n",
       "      <td>14.0</td>\n",
       "      <td>1970</td>\n",
       "      <td>0.089040</td>\n",
       "      <td>...</td>\n",
       "      <td>0</td>\n",
       "      <td>1</td>\n",
       "      <td>0</td>\n",
       "      <td>1</td>\n",
       "      <td>0</td>\n",
       "      <td>1</td>\n",
       "      <td>4377.498005</td>\n",
       "      <td>0.000000</td>\n",
       "      <td>8009</td>\n",
       "      <td>167742.760878</td>\n",
       "    </tr>\n",
       "    <tr>\n",
       "      <th>4999</th>\n",
       "      <td>11004</td>\n",
       "      <td>21</td>\n",
       "      <td>2.0</td>\n",
       "      <td>67.122742</td>\n",
       "      <td>15.0</td>\n",
       "      <td>13.0</td>\n",
       "      <td>9</td>\n",
       "      <td>17.0</td>\n",
       "      <td>2009</td>\n",
       "      <td>0.194489</td>\n",
       "      <td>...</td>\n",
       "      <td>0</td>\n",
       "      <td>1</td>\n",
       "      <td>0</td>\n",
       "      <td>1</td>\n",
       "      <td>0</td>\n",
       "      <td>1</td>\n",
       "      <td>4084.277065</td>\n",
       "      <td>1.909091</td>\n",
       "      <td>8051</td>\n",
       "      <td>183361.808670</td>\n",
       "    </tr>\n",
       "  </tbody>\n",
       "</table>\n",
       "<p>5000 rows × 29 columns</p>\n",
       "</div>"
      ],
      "text/plain": [
       "         Id DistrictId  Rooms     Square  LifeSquare  KitchenSquare  Floor  \\\n",
       "0      4567         44    1.0  36.847630        15.0            5.0      5   \n",
       "1      5925         62    1.0  42.493907        15.0           10.0      7   \n",
       "2       960         27    2.0  59.463678        15.0            9.0     19   \n",
       "3      3848         23    3.0  49.646030        15.0            6.0      2   \n",
       "4       746         74    1.0  53.837056        15.0            3.0      8   \n",
       "...     ...        ...    ...        ...         ...            ...    ...   \n",
       "4995  10379         29    2.0  43.177521        15.0            5.0      3   \n",
       "4996  16138         38    3.0  93.698122        15.0           10.0     21   \n",
       "4997   3912        101    1.0  33.656723        15.0            5.0      2   \n",
       "4998   5722         10    1.0  38.635155        15.0            9.0      8   \n",
       "4999  11004         21    2.0  67.122742        15.0           13.0      9   \n",
       "\n",
       "      HouseFloor  HouseYear  Ecology_1  ... Ecology_2_A Ecology_2_B  \\\n",
       "0            9.0       1970   0.036122  ...           0           1   \n",
       "1           17.0       2017   0.072158  ...           0           1   \n",
       "2           19.0       1977   0.211401  ...           0           1   \n",
       "3            2.0       1965   0.014073  ...           0           1   \n",
       "4           17.0       1977   0.309479  ...           0           1   \n",
       "...          ...        ...        ...  ...         ...         ...   \n",
       "4995         5.0       1962   0.069660  ...           0           1   \n",
       "4996        27.0       2018   0.060753  ...           0           1   \n",
       "4997         5.0       1966   0.038693  ...           0           1   \n",
       "4998        14.0       1970   0.089040  ...           0           1   \n",
       "4999        17.0       2009   0.194489  ...           0           1   \n",
       "\n",
       "      Ecology_3_A  Ecology_3_B  Shops_2_A  Shops_2_B  Average_Square_Price  \\\n",
       "0               0            1          0          1           4572.483767   \n",
       "1               0            1          1          0           2818.749357   \n",
       "2               0            1          0          1           2767.768067   \n",
       "3               0            1          0          1           2284.108677   \n",
       "4               0            1          0          1           3355.343060   \n",
       "...           ...          ...        ...        ...                   ...   \n",
       "4995            0            1          0          1           4145.367548   \n",
       "4996            0            1          0          1           4515.795241   \n",
       "4997            0            1          0          1           4177.749766   \n",
       "4998            0            1          0          1           4377.498005   \n",
       "4999            0            1          0          1           4084.277065   \n",
       "\n",
       "      Average_Helthcare_2 SociaLL  MedPriceByDistrict  \n",
       "0                0.788462    4402       171145.169069  \n",
       "1                0.121457     631       129107.218932  \n",
       "2                0.058754    1901       165700.355193  \n",
       "3                0.000000     477       166687.735824  \n",
       "4                0.359649    7750       165071.825722  \n",
       "...                   ...     ...                 ...  \n",
       "4995             0.865169    6150       185083.534141  \n",
       "4996             0.000000    2802       425037.641820  \n",
       "4997             2.773196    6561       151926.384470  \n",
       "4998             0.000000    8009       167742.760878  \n",
       "4999             1.909091    8051       183361.808670  \n",
       "\n",
       "[5000 rows x 29 columns]"
      ]
     },
     "execution_count": 99,
     "metadata": {},
     "output_type": "execute_result"
    }
   ],
   "source": [
    "test_df.merge(med_price_by_district, on=['DistrictId', 'Rooms'], how='left')"
   ]
  },
  {
   "cell_type": "markdown",
   "id": "4364ac04",
   "metadata": {},
   "source": [
    "### Отбор признаков"
   ]
  },
  {
   "cell_type": "code",
   "execution_count": 100,
   "id": "caccb7f0",
   "metadata": {},
   "outputs": [],
   "source": [
    "feature_names = ['Rooms', 'Square', 'LifeSquare', 'KitchenSquare', 'Floor', 'HouseFloor', 'HouseYear',\n",
    "                 'Ecology_1', 'Ecology_2_A', 'Ecology_2_B', 'Ecology_3_B', 'Ecology_3_A', 'Social_3',\n",
    "                 'Healthcare_1', 'Helthcare_2', 'Shops_1', 'Shops_2_A', 'Shops_2_B']\n",
    "\n",
    "new_feature_names = ['SociaLL','Average_Square_Price', 'MedPriceByDistrict', 'Average_Helthcare_2']\n",
    "\n",
    "target_name = 'Price'"
   ]
  },
  {
   "cell_type": "code",
   "execution_count": 101,
   "id": "b99b6bce",
   "metadata": {},
   "outputs": [
    {
     "data": {
      "text/plain": [
       "(10000, 30)"
      ]
     },
     "execution_count": 101,
     "metadata": {},
     "output_type": "execute_result"
    }
   ],
   "source": [
    "train_df.shape"
   ]
  },
  {
   "cell_type": "code",
   "execution_count": 102,
   "id": "3ca7b14c",
   "metadata": {},
   "outputs": [
    {
     "data": {
      "text/plain": [
       "(5000, 28)"
      ]
     },
     "execution_count": 102,
     "metadata": {},
     "output_type": "execute_result"
    }
   ],
   "source": [
    "test_df.shape"
   ]
  },
  {
   "cell_type": "markdown",
   "id": "6cbf112f",
   "metadata": {},
   "source": [
    "### Разбиение на train и test"
   ]
  },
  {
   "cell_type": "code",
   "execution_count": 103,
   "id": "dc59ff15",
   "metadata": {},
   "outputs": [
    {
     "data": {
      "text/plain": [
       "0       2235\n",
       "1       3705\n",
       "2       2235\n",
       "3       3705\n",
       "4       3892\n",
       "        ... \n",
       "9995    3892\n",
       "9996    3892\n",
       "9997    3705\n",
       "9998    3705\n",
       "9999    3705\n",
       "Name: Rooms_vc, Length: 10000, dtype: int64"
      ]
     },
     "execution_count": 103,
     "metadata": {},
     "output_type": "execute_result"
    }
   ],
   "source": [
    "train_df[\"Rooms_vc\"] = train_df[\"Rooms\"].map(train_df[\"Rooms\"].value_counts().to_dict())\n",
    "train_df[\"Rooms_vc\"]"
   ]
  },
  {
   "cell_type": "code",
   "execution_count": 104,
   "id": "b5a79d4a",
   "metadata": {},
   "outputs": [],
   "source": [
    "X = train_df[feature_names + new_feature_names]\n",
    "y = train_df[target_name]"
   ]
  },
  {
   "cell_type": "code",
   "execution_count": 105,
   "id": "71456882",
   "metadata": {},
   "outputs": [
    {
     "name": "stdout",
     "output_type": "stream",
     "text": [
      "<class 'pandas.core.frame.DataFrame'>\n",
      "Int64Index: 10000 entries, 0 to 9999\n",
      "Data columns (total 31 columns):\n",
      " #   Column                Non-Null Count  Dtype  \n",
      "---  ------                --------------  -----  \n",
      " 0   Id                    10000 non-null  object \n",
      " 1   DistrictId            10000 non-null  object \n",
      " 2   Rooms                 10000 non-null  float64\n",
      " 3   Square                10000 non-null  float64\n",
      " 4   LifeSquare            10000 non-null  float64\n",
      " 5   KitchenSquare         10000 non-null  float64\n",
      " 6   Floor                 10000 non-null  int64  \n",
      " 7   HouseFloor            10000 non-null  float64\n",
      " 8   HouseYear             10000 non-null  int64  \n",
      " 9   Ecology_1             10000 non-null  float64\n",
      " 10  Ecology_2             10000 non-null  object \n",
      " 11  Ecology_3             10000 non-null  object \n",
      " 12  Social_1              10000 non-null  int64  \n",
      " 13  Social_2              10000 non-null  int64  \n",
      " 14  Social_3              10000 non-null  int64  \n",
      " 15  Healthcare_1          10000 non-null  float64\n",
      " 16  Helthcare_2           10000 non-null  int64  \n",
      " 17  Shops_1               10000 non-null  int64  \n",
      " 18  Shops_2               10000 non-null  object \n",
      " 19  Price                 10000 non-null  float64\n",
      " 20  Ecology_2_A           10000 non-null  int8   \n",
      " 21  Ecology_2_B           10000 non-null  int8   \n",
      " 22  Ecology_3_A           10000 non-null  int8   \n",
      " 23  Ecology_3_B           10000 non-null  int8   \n",
      " 24  Shops_2_A             10000 non-null  int8   \n",
      " 25  Shops_2_B             10000 non-null  int8   \n",
      " 26  Average_Square_Price  10000 non-null  float64\n",
      " 27  Average_Helthcare_2   10000 non-null  float64\n",
      " 28  SociaLL               10000 non-null  int64  \n",
      " 29  MedPriceByDistrict    10000 non-null  float64\n",
      " 30  Rooms_vc              10000 non-null  int64  \n",
      "dtypes: float64(11), int64(9), int8(6), object(5)\n",
      "memory usage: 2.0+ MB\n"
     ]
    }
   ],
   "source": [
    "X_train, X_test, y_train, y_test = train_test_split(\n",
    "    X, y, test_size=0.33, shuffle=True, random_state=21\n",
    ")\n",
    "train_df.info()"
   ]
  },
  {
   "cell_type": "markdown",
   "id": "a4d73152",
   "metadata": {},
   "source": [
    "С помощью RandomizedSearchCV настроили параметры: {'n_estimators': 400, 'min_samples_split': 2, 'min_samples_leaf': 4, 'max_features': 0.5, 'max_depth': 14}"
   ]
  },
  {
   "cell_type": "code",
   "execution_count": 107,
   "id": "ae92c267",
   "metadata": {},
   "outputs": [
    {
     "data": {
      "text/plain": [
       "RandomForestRegressor(max_depth=14, max_features=0.5, min_samples_leaf=4,\n",
       "                      n_estimators=400, n_jobs=-1, random_state=42)"
      ]
     },
     "execution_count": 107,
     "metadata": {},
     "output_type": "execute_result"
    }
   ],
   "source": [
    "rf_model = RandomForestRegressor(\n",
    "    max_depth=14, min_samples_split=2, n_estimators=400,min_samples_leaf = 4 , max_features = 0.5, n_jobs=-1, random_state=42\n",
    ")\n",
    "rf_model.fit(X_train, y_train)\n"
   ]
  },
  {
   "cell_type": "code",
   "execution_count": 108,
   "id": "3ce4bb79",
   "metadata": {},
   "outputs": [
    {
     "name": "stdout",
     "output_type": "stream",
     "text": [
      "Train R2:\t0.886\n",
      "Valid R2:\t0.76\n"
     ]
    },
    {
     "data": {
      "image/png": "[encoded data removed]",
      "text/plain": [
       "<Figure size 1296x720 with 2 Axes>"
      ]
     },
     "metadata": {},
     "output_type": "display_data"
    }
   ],
   "source": [
    "y_train_preds = rf_model.predict(X_train)\n",
    "y_test_preds = rf_model.predict(X_test)\n",
    "\n",
    "evaluate_preds(y_train, y_train_preds, y_test, y_test_preds)"
   ]
  },
  {
   "cell_type": "code",
   "execution_count": 109,
   "id": "68f0cd33",
   "metadata": {},
   "outputs": [
    {
     "data": {
      "text/plain": [
       "array([0.77640886, 0.75617617, 0.74543078, 0.77034852, 0.79203526])"
      ]
     },
     "execution_count": 109,
     "metadata": {},
     "output_type": "execute_result"
    }
   ],
   "source": [
    "cv_score = cross_val_score(\n",
    "    rf_model,\n",
    "    X.fillna(-9999),\n",
    "    y, scoring='r2',\n",
    "    cv=KFold(n_splits=5, shuffle=True, random_state=21)\n",
    ")\n",
    "cv_score"
   ]
  },
  {
   "cell_type": "markdown",
   "id": "3ab10e11",
   "metadata": {},
   "source": [
    "### Важность признаков "
   ]
  },
  {
   "cell_type": "code",
   "execution_count": 110,
   "id": "82ab6bb2",
   "metadata": {},
   "outputs": [
    {
     "data": {
      "text/html": [
       "<div>\n",
       "<style scoped>\n",
       "    .dataframe tbody tr th:only-of-type {\n",
       "        vertical-align: middle;\n",
       "    }\n",
       "\n",
       "    .dataframe tbody tr th {\n",
       "        vertical-align: top;\n",
       "    }\n",
       "\n",
       "    .dataframe thead th {\n",
       "        text-align: right;\n",
       "    }\n",
       "</style>\n",
       "<table border=\"1\" class=\"dataframe\">\n",
       "  <thead>\n",
       "    <tr style=\"text-align: right;\">\n",
       "      <th></th>\n",
       "      <th>feature_name</th>\n",
       "      <th>importance</th>\n",
       "    </tr>\n",
       "  </thead>\n",
       "  <tbody>\n",
       "    <tr>\n",
       "      <th>20</th>\n",
       "      <td>MedPriceByDistrict</td>\n",
       "      <td>0.458026</td>\n",
       "    </tr>\n",
       "    <tr>\n",
       "      <th>1</th>\n",
       "      <td>Square</td>\n",
       "      <td>0.207547</td>\n",
       "    </tr>\n",
       "    <tr>\n",
       "      <th>19</th>\n",
       "      <td>Average_Square_Price</td>\n",
       "      <td>0.107197</td>\n",
       "    </tr>\n",
       "    <tr>\n",
       "      <th>0</th>\n",
       "      <td>Rooms</td>\n",
       "      <td>0.056136</td>\n",
       "    </tr>\n",
       "    <tr>\n",
       "      <th>18</th>\n",
       "      <td>SociaLL</td>\n",
       "      <td>0.030892</td>\n",
       "    </tr>\n",
       "    <tr>\n",
       "      <th>6</th>\n",
       "      <td>HouseYear</td>\n",
       "      <td>0.024243</td>\n",
       "    </tr>\n",
       "    <tr>\n",
       "      <th>3</th>\n",
       "      <td>KitchenSquare</td>\n",
       "      <td>0.023431</td>\n",
       "    </tr>\n",
       "    <tr>\n",
       "      <th>5</th>\n",
       "      <td>HouseFloor</td>\n",
       "      <td>0.015616</td>\n",
       "    </tr>\n",
       "    <tr>\n",
       "      <th>12</th>\n",
       "      <td>Social_3</td>\n",
       "      <td>0.014622</td>\n",
       "    </tr>\n",
       "    <tr>\n",
       "      <th>4</th>\n",
       "      <td>Floor</td>\n",
       "      <td>0.014382</td>\n",
       "    </tr>\n",
       "    <tr>\n",
       "      <th>21</th>\n",
       "      <td>Average_Helthcare_2</td>\n",
       "      <td>0.013574</td>\n",
       "    </tr>\n",
       "    <tr>\n",
       "      <th>7</th>\n",
       "      <td>Ecology_1</td>\n",
       "      <td>0.011668</td>\n",
       "    </tr>\n",
       "    <tr>\n",
       "      <th>13</th>\n",
       "      <td>Healthcare_1</td>\n",
       "      <td>0.008629</td>\n",
       "    </tr>\n",
       "    <tr>\n",
       "      <th>15</th>\n",
       "      <td>Shops_1</td>\n",
       "      <td>0.007842</td>\n",
       "    </tr>\n",
       "    <tr>\n",
       "      <th>14</th>\n",
       "      <td>Helthcare_2</td>\n",
       "      <td>0.004571</td>\n",
       "    </tr>\n",
       "    <tr>\n",
       "      <th>17</th>\n",
       "      <td>Shops_2_B</td>\n",
       "      <td>0.000464</td>\n",
       "    </tr>\n",
       "    <tr>\n",
       "      <th>16</th>\n",
       "      <td>Shops_2_A</td>\n",
       "      <td>0.000418</td>\n",
       "    </tr>\n",
       "    <tr>\n",
       "      <th>10</th>\n",
       "      <td>Ecology_3_B</td>\n",
       "      <td>0.000293</td>\n",
       "    </tr>\n",
       "    <tr>\n",
       "      <th>11</th>\n",
       "      <td>Ecology_3_A</td>\n",
       "      <td>0.000291</td>\n",
       "    </tr>\n",
       "    <tr>\n",
       "      <th>2</th>\n",
       "      <td>LifeSquare</td>\n",
       "      <td>0.000083</td>\n",
       "    </tr>\n",
       "    <tr>\n",
       "      <th>9</th>\n",
       "      <td>Ecology_2_B</td>\n",
       "      <td>0.000043</td>\n",
       "    </tr>\n",
       "    <tr>\n",
       "      <th>8</th>\n",
       "      <td>Ecology_2_A</td>\n",
       "      <td>0.000032</td>\n",
       "    </tr>\n",
       "  </tbody>\n",
       "</table>\n",
       "</div>"
      ],
      "text/plain": [
       "            feature_name  importance\n",
       "20    MedPriceByDistrict    0.458026\n",
       "1                 Square    0.207547\n",
       "19  Average_Square_Price    0.107197\n",
       "0                  Rooms    0.056136\n",
       "18               SociaLL    0.030892\n",
       "6              HouseYear    0.024243\n",
       "3          KitchenSquare    0.023431\n",
       "5             HouseFloor    0.015616\n",
       "12              Social_3    0.014622\n",
       "4                  Floor    0.014382\n",
       "21   Average_Helthcare_2    0.013574\n",
       "7              Ecology_1    0.011668\n",
       "13          Healthcare_1    0.008629\n",
       "15               Shops_1    0.007842\n",
       "14           Helthcare_2    0.004571\n",
       "17             Shops_2_B    0.000464\n",
       "16             Shops_2_A    0.000418\n",
       "10           Ecology_3_B    0.000293\n",
       "11           Ecology_3_A    0.000291\n",
       "2             LifeSquare    0.000083\n",
       "9            Ecology_2_B    0.000043\n",
       "8            Ecology_2_A    0.000032"
      ]
     },
     "execution_count": 110,
     "metadata": {},
     "output_type": "execute_result"
    }
   ],
   "source": [
    "feature_importances = pd.DataFrame(zip(X_train.columns, rf_model.feature_importances_), \n",
    "                                   columns=['feature_name', 'importance'])\n",
    "\n",
    "feature_importances.sort_values(by='importance', ascending=False)"
   ]
  },
  {
   "cell_type": "markdown",
   "id": "6c9c569b",
   "metadata": {},
   "source": [
    "## Формирование файла с прогнозами"
   ]
  },
  {
   "cell_type": "code",
   "execution_count": 111,
   "id": "b3e0a23e",
   "metadata": {},
   "outputs": [
    {
     "data": {
      "text/plain": [
       "5000"
      ]
     },
     "execution_count": 111,
     "metadata": {},
     "output_type": "execute_result"
    }
   ],
   "source": [
    "test_id = test_df[\"Id\"]\n",
    "pred_df = pd.DataFrame()\n",
    "pred_df[\"Id\"] = test_id\n",
    "pred_df[\"Price\"] = np.random.randint(0, 1e6, size=test_id.shape[0])\n",
    "assert pred_df.shape[0] == 5000, f\"Real pred-shape = {pred_df.shape[0]}, Expected pred-shape = 5000\"\n",
    "\n",
    "pred_df.to_csv(\"./VNam_predictions_.csv\", index=False)\n",
    "\n",
    "pred_df = pd.read_csv(\"./VNam_predictions_.csv\")\n",
    "pred_df.head(n=2)\n",
    "\n",
    "test_df.shape[0]"
   ]
  },
  {
   "cell_type": "code",
   "execution_count": null,
   "id": "6ecf7972",
   "metadata": {},
   "outputs": [],
   "source": []
  }
 ],
 "metadata": {
  "kernelspec": {
   "display_name": "Python 3",
   "language": "python",
   "name": "python3"
  },
  "language_info": {
   "codemirror_mode": {
    "name": "ipython",
    "version": 3
   },
   "file_extension": ".py",
   "mimetype": "text/x-python",
   "name": "python",
   "nbconvert_exporter": "python",
   "pygments_lexer": "ipython3",
   "version": "3.8.8"
  }
 },
 "nbformat": 4,
 "nbformat_minor": 5
}
